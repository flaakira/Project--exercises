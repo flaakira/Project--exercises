{
 "cells": [
  {
   "cell_type": "code",
   "execution_count": 132,
   "id": "808a552b",
   "metadata": {},
   "outputs": [],
   "source": [
    "import pandas as pd\n",
    "import numpy as np\n",
    "import matplotlib.pyplot as plt\n",
    "import seaborn as sns\n",
    "%matplotlib inline"
   ]
  },
  {
   "cell_type": "code",
   "execution_count": 2,
   "id": "ef36a18f",
   "metadata": {},
   "outputs": [
    {
     "name": "stderr",
     "output_type": "stream",
     "text": [
      "C:\\Users\\foliveira\\Anaconda3\\lib\\site-packages\\IPython\\core\\interactiveshell.py:3165: DtypeWarning: Columns (20) have mixed types.Specify dtype option on import or set low_memory=False.\n",
      "  has_raised = await self.run_ast_nodes(code_ast.body, cell_name,\n"
     ]
    }
   ],
   "source": [
    "#latin-1 \n",
    "dataframe = pd.read_csv('consulta_cand_2018_BRASIL.csv', delimiter=';', encoding='latin-1')"
   ]
  },
  {
   "cell_type": "code",
   "execution_count": 3,
   "id": "f979a33b",
   "metadata": {},
   "outputs": [
    {
     "data": {
      "text/html": [
       "<div>\n",
       "<style scoped>\n",
       "    .dataframe tbody tr th:only-of-type {\n",
       "        vertical-align: middle;\n",
       "    }\n",
       "\n",
       "    .dataframe tbody tr th {\n",
       "        vertical-align: top;\n",
       "    }\n",
       "\n",
       "    .dataframe thead th {\n",
       "        text-align: right;\n",
       "    }\n",
       "</style>\n",
       "<table border=\"1\" class=\"dataframe\">\n",
       "  <thead>\n",
       "    <tr style=\"text-align: right;\">\n",
       "      <th></th>\n",
       "      <th>DT_GERACAO</th>\n",
       "      <th>HH_GERACAO</th>\n",
       "      <th>ANO_ELEICAO</th>\n",
       "      <th>CD_TIPO_ELEICAO</th>\n",
       "      <th>NM_TIPO_ELEICAO</th>\n",
       "      <th>NR_TURNO</th>\n",
       "      <th>CD_ELEICAO</th>\n",
       "      <th>DS_ELEICAO</th>\n",
       "      <th>DT_ELEICAO</th>\n",
       "      <th>TP_ABRANGENCIA</th>\n",
       "      <th>...</th>\n",
       "      <th>DS_SIT_TOT_TURNO</th>\n",
       "      <th>ST_REELEICAO</th>\n",
       "      <th>ST_DECLARAR_BENS</th>\n",
       "      <th>NR_PROTOCOLO_CANDIDATURA</th>\n",
       "      <th>NR_PROCESSO</th>\n",
       "      <th>CD_SITUACAO_CANDIDATO_PLEITO</th>\n",
       "      <th>DS_SITUACAO_CANDIDATO_PLEITO</th>\n",
       "      <th>CD_SITUACAO_CANDIDATO_URNA</th>\n",
       "      <th>DS_SITUACAO_CANDIDATO_URNA</th>\n",
       "      <th>ST_CANDIDATO_INSERIDO_URNA</th>\n",
       "    </tr>\n",
       "  </thead>\n",
       "  <tbody>\n",
       "    <tr>\n",
       "      <th>0</th>\n",
       "      <td>08/08/2021</td>\n",
       "      <td>11:00:47</td>\n",
       "      <td>2018</td>\n",
       "      <td>2</td>\n",
       "      <td>ELEIÇÃO ORDINÁRIA</td>\n",
       "      <td>1</td>\n",
       "      <td>297</td>\n",
       "      <td>Eleições Gerais Estaduais 2018</td>\n",
       "      <td>07/10/2018</td>\n",
       "      <td>ESTADUAL</td>\n",
       "      <td>...</td>\n",
       "      <td>NÃO ELEITO</td>\n",
       "      <td>N</td>\n",
       "      <td>N</td>\n",
       "      <td>-1</td>\n",
       "      <td>6014988120186060000</td>\n",
       "      <td>6</td>\n",
       "      <td>RENÚNCIA</td>\n",
       "      <td>4</td>\n",
       "      <td>INDEFERIDO COM RECURSO</td>\n",
       "      <td>SIM</td>\n",
       "    </tr>\n",
       "    <tr>\n",
       "      <th>1</th>\n",
       "      <td>08/08/2021</td>\n",
       "      <td>11:00:47</td>\n",
       "      <td>2018</td>\n",
       "      <td>2</td>\n",
       "      <td>ELEIÇÃO ORDINÁRIA</td>\n",
       "      <td>1</td>\n",
       "      <td>297</td>\n",
       "      <td>Eleições Gerais Estaduais 2018</td>\n",
       "      <td>07/10/2018</td>\n",
       "      <td>ESTADUAL</td>\n",
       "      <td>...</td>\n",
       "      <td>NÃO ELEITO</td>\n",
       "      <td>N</td>\n",
       "      <td>N</td>\n",
       "      <td>-1</td>\n",
       "      <td>6043424120186190000</td>\n",
       "      <td>4</td>\n",
       "      <td>INDEFERIDO COM RECURSO</td>\n",
       "      <td>4</td>\n",
       "      <td>INDEFERIDO COM RECURSO</td>\n",
       "      <td>SIM</td>\n",
       "    </tr>\n",
       "    <tr>\n",
       "      <th>2</th>\n",
       "      <td>08/08/2021</td>\n",
       "      <td>11:00:47</td>\n",
       "      <td>2018</td>\n",
       "      <td>2</td>\n",
       "      <td>ELEIÇÃO ORDINÁRIA</td>\n",
       "      <td>1</td>\n",
       "      <td>297</td>\n",
       "      <td>Eleições Gerais Estaduais 2018</td>\n",
       "      <td>07/10/2018</td>\n",
       "      <td>ESTADUAL</td>\n",
       "      <td>...</td>\n",
       "      <td>#NULO#</td>\n",
       "      <td>N</td>\n",
       "      <td>N</td>\n",
       "      <td>-1</td>\n",
       "      <td>6044195520186260000</td>\n",
       "      <td>-1</td>\n",
       "      <td>#NULO#</td>\n",
       "      <td>-1</td>\n",
       "      <td>#NULO#</td>\n",
       "      <td>NÃO</td>\n",
       "    </tr>\n",
       "    <tr>\n",
       "      <th>3</th>\n",
       "      <td>08/08/2021</td>\n",
       "      <td>11:00:47</td>\n",
       "      <td>2018</td>\n",
       "      <td>2</td>\n",
       "      <td>ELEIÇÃO ORDINÁRIA</td>\n",
       "      <td>1</td>\n",
       "      <td>297</td>\n",
       "      <td>Eleições Gerais Estaduais 2018</td>\n",
       "      <td>07/10/2018</td>\n",
       "      <td>ESTADUAL</td>\n",
       "      <td>...</td>\n",
       "      <td>SUPLENTE</td>\n",
       "      <td>N</td>\n",
       "      <td>S</td>\n",
       "      <td>-1</td>\n",
       "      <td>6002207120186230000</td>\n",
       "      <td>2</td>\n",
       "      <td>DEFERIDO</td>\n",
       "      <td>2</td>\n",
       "      <td>DEFERIDO</td>\n",
       "      <td>SIM</td>\n",
       "    </tr>\n",
       "    <tr>\n",
       "      <th>4</th>\n",
       "      <td>08/08/2021</td>\n",
       "      <td>11:00:47</td>\n",
       "      <td>2018</td>\n",
       "      <td>2</td>\n",
       "      <td>ELEIÇÃO ORDINÁRIA</td>\n",
       "      <td>1</td>\n",
       "      <td>297</td>\n",
       "      <td>Eleições Gerais Estaduais 2018</td>\n",
       "      <td>07/10/2018</td>\n",
       "      <td>ESTADUAL</td>\n",
       "      <td>...</td>\n",
       "      <td>SUPLENTE</td>\n",
       "      <td>N</td>\n",
       "      <td>N</td>\n",
       "      <td>-1</td>\n",
       "      <td>6014393820186260000</td>\n",
       "      <td>2</td>\n",
       "      <td>DEFERIDO</td>\n",
       "      <td>2</td>\n",
       "      <td>DEFERIDO</td>\n",
       "      <td>SIM</td>\n",
       "    </tr>\n",
       "  </tbody>\n",
       "</table>\n",
       "<p>5 rows × 63 columns</p>\n",
       "</div>"
      ],
      "text/plain": [
       "   DT_GERACAO HH_GERACAO  ANO_ELEICAO  CD_TIPO_ELEICAO    NM_TIPO_ELEICAO  \\\n",
       "0  08/08/2021   11:00:47         2018                2  ELEIÇÃO ORDINÁRIA   \n",
       "1  08/08/2021   11:00:47         2018                2  ELEIÇÃO ORDINÁRIA   \n",
       "2  08/08/2021   11:00:47         2018                2  ELEIÇÃO ORDINÁRIA   \n",
       "3  08/08/2021   11:00:47         2018                2  ELEIÇÃO ORDINÁRIA   \n",
       "4  08/08/2021   11:00:47         2018                2  ELEIÇÃO ORDINÁRIA   \n",
       "\n",
       "   NR_TURNO  CD_ELEICAO                      DS_ELEICAO  DT_ELEICAO  \\\n",
       "0         1         297  Eleições Gerais Estaduais 2018  07/10/2018   \n",
       "1         1         297  Eleições Gerais Estaduais 2018  07/10/2018   \n",
       "2         1         297  Eleições Gerais Estaduais 2018  07/10/2018   \n",
       "3         1         297  Eleições Gerais Estaduais 2018  07/10/2018   \n",
       "4         1         297  Eleições Gerais Estaduais 2018  07/10/2018   \n",
       "\n",
       "  TP_ABRANGENCIA  ... DS_SIT_TOT_TURNO ST_REELEICAO ST_DECLARAR_BENS  \\\n",
       "0       ESTADUAL  ...       NÃO ELEITO            N                N   \n",
       "1       ESTADUAL  ...       NÃO ELEITO            N                N   \n",
       "2       ESTADUAL  ...           #NULO#            N                N   \n",
       "3       ESTADUAL  ...         SUPLENTE            N                S   \n",
       "4       ESTADUAL  ...         SUPLENTE            N                N   \n",
       "\n",
       "   NR_PROTOCOLO_CANDIDATURA          NR_PROCESSO  \\\n",
       "0                        -1  6014988120186060000   \n",
       "1                        -1  6043424120186190000   \n",
       "2                        -1  6044195520186260000   \n",
       "3                        -1  6002207120186230000   \n",
       "4                        -1  6014393820186260000   \n",
       "\n",
       "   CD_SITUACAO_CANDIDATO_PLEITO  DS_SITUACAO_CANDIDATO_PLEITO  \\\n",
       "0                             6                      RENÚNCIA   \n",
       "1                             4        INDEFERIDO COM RECURSO   \n",
       "2                            -1                        #NULO#   \n",
       "3                             2                      DEFERIDO   \n",
       "4                             2                      DEFERIDO   \n",
       "\n",
       "  CD_SITUACAO_CANDIDATO_URNA DS_SITUACAO_CANDIDATO_URNA  \\\n",
       "0                          4     INDEFERIDO COM RECURSO   \n",
       "1                          4     INDEFERIDO COM RECURSO   \n",
       "2                         -1                     #NULO#   \n",
       "3                          2                   DEFERIDO   \n",
       "4                          2                   DEFERIDO   \n",
       "\n",
       "  ST_CANDIDATO_INSERIDO_URNA  \n",
       "0                        SIM  \n",
       "1                        SIM  \n",
       "2                        NÃO  \n",
       "3                        SIM  \n",
       "4                        SIM  \n",
       "\n",
       "[5 rows x 63 columns]"
      ]
     },
     "execution_count": 3,
     "metadata": {},
     "output_type": "execute_result"
    }
   ],
   "source": [
    "dataframe.head()"
   ]
  },
  {
   "cell_type": "code",
   "execution_count": 4,
   "id": "1b24ce44",
   "metadata": {},
   "outputs": [
    {
     "data": {
      "text/html": [
       "<div>\n",
       "<style scoped>\n",
       "    .dataframe tbody tr th:only-of-type {\n",
       "        vertical-align: middle;\n",
       "    }\n",
       "\n",
       "    .dataframe tbody tr th {\n",
       "        vertical-align: top;\n",
       "    }\n",
       "\n",
       "    .dataframe thead th {\n",
       "        text-align: right;\n",
       "    }\n",
       "</style>\n",
       "<table border=\"1\" class=\"dataframe\">\n",
       "  <thead>\n",
       "    <tr style=\"text-align: right;\">\n",
       "      <th></th>\n",
       "      <th>DT_GERACAO</th>\n",
       "      <th>HH_GERACAO</th>\n",
       "      <th>ANO_ELEICAO</th>\n",
       "      <th>CD_TIPO_ELEICAO</th>\n",
       "      <th>NM_TIPO_ELEICAO</th>\n",
       "      <th>NR_TURNO</th>\n",
       "      <th>CD_ELEICAO</th>\n",
       "      <th>DS_ELEICAO</th>\n",
       "      <th>DT_ELEICAO</th>\n",
       "      <th>TP_ABRANGENCIA</th>\n",
       "      <th>...</th>\n",
       "      <th>DS_SIT_TOT_TURNO</th>\n",
       "      <th>ST_REELEICAO</th>\n",
       "      <th>ST_DECLARAR_BENS</th>\n",
       "      <th>NR_PROTOCOLO_CANDIDATURA</th>\n",
       "      <th>NR_PROCESSO</th>\n",
       "      <th>CD_SITUACAO_CANDIDATO_PLEITO</th>\n",
       "      <th>DS_SITUACAO_CANDIDATO_PLEITO</th>\n",
       "      <th>CD_SITUACAO_CANDIDATO_URNA</th>\n",
       "      <th>DS_SITUACAO_CANDIDATO_URNA</th>\n",
       "      <th>ST_CANDIDATO_INSERIDO_URNA</th>\n",
       "    </tr>\n",
       "  </thead>\n",
       "  <tbody>\n",
       "    <tr>\n",
       "      <th>29175</th>\n",
       "      <td>08/08/2021</td>\n",
       "      <td>11:00:47</td>\n",
       "      <td>2018</td>\n",
       "      <td>2</td>\n",
       "      <td>ELEIÇÃO ORDINÁRIA</td>\n",
       "      <td>1</td>\n",
       "      <td>297</td>\n",
       "      <td>Eleições Gerais Estaduais 2018</td>\n",
       "      <td>07/10/2018</td>\n",
       "      <td>ESTADUAL</td>\n",
       "      <td>...</td>\n",
       "      <td>SUPLENTE</td>\n",
       "      <td>N</td>\n",
       "      <td>N</td>\n",
       "      <td>-1</td>\n",
       "      <td>6007182220186140000</td>\n",
       "      <td>2</td>\n",
       "      <td>DEFERIDO</td>\n",
       "      <td>2</td>\n",
       "      <td>DEFERIDO</td>\n",
       "      <td>SIM</td>\n",
       "    </tr>\n",
       "    <tr>\n",
       "      <th>29176</th>\n",
       "      <td>08/08/2021</td>\n",
       "      <td>11:00:47</td>\n",
       "      <td>2018</td>\n",
       "      <td>2</td>\n",
       "      <td>ELEIÇÃO ORDINÁRIA</td>\n",
       "      <td>1</td>\n",
       "      <td>297</td>\n",
       "      <td>Eleições Gerais Estaduais 2018</td>\n",
       "      <td>07/10/2018</td>\n",
       "      <td>ESTADUAL</td>\n",
       "      <td>...</td>\n",
       "      <td>SUPLENTE</td>\n",
       "      <td>N</td>\n",
       "      <td>S</td>\n",
       "      <td>-1</td>\n",
       "      <td>6007439420186190000</td>\n",
       "      <td>2</td>\n",
       "      <td>DEFERIDO</td>\n",
       "      <td>2</td>\n",
       "      <td>DEFERIDO</td>\n",
       "      <td>SIM</td>\n",
       "    </tr>\n",
       "    <tr>\n",
       "      <th>29177</th>\n",
       "      <td>08/08/2021</td>\n",
       "      <td>11:00:47</td>\n",
       "      <td>2018</td>\n",
       "      <td>2</td>\n",
       "      <td>ELEIÇÃO ORDINÁRIA</td>\n",
       "      <td>1</td>\n",
       "      <td>297</td>\n",
       "      <td>Eleições Gerais Estaduais 2018</td>\n",
       "      <td>07/10/2018</td>\n",
       "      <td>ESTADUAL</td>\n",
       "      <td>...</td>\n",
       "      <td>NÃO ELEITO</td>\n",
       "      <td>N</td>\n",
       "      <td>S</td>\n",
       "      <td>-1</td>\n",
       "      <td>6001802020186040000</td>\n",
       "      <td>2</td>\n",
       "      <td>DEFERIDO</td>\n",
       "      <td>2</td>\n",
       "      <td>DEFERIDO</td>\n",
       "      <td>SIM</td>\n",
       "    </tr>\n",
       "    <tr>\n",
       "      <th>29178</th>\n",
       "      <td>08/08/2021</td>\n",
       "      <td>11:00:47</td>\n",
       "      <td>2018</td>\n",
       "      <td>2</td>\n",
       "      <td>ELEIÇÃO ORDINÁRIA</td>\n",
       "      <td>1</td>\n",
       "      <td>297</td>\n",
       "      <td>Eleições Gerais Estaduais 2018</td>\n",
       "      <td>07/10/2018</td>\n",
       "      <td>ESTADUAL</td>\n",
       "      <td>...</td>\n",
       "      <td>NÃO ELEITO</td>\n",
       "      <td>N</td>\n",
       "      <td>N</td>\n",
       "      <td>-1</td>\n",
       "      <td>6001940420186040000</td>\n",
       "      <td>2</td>\n",
       "      <td>DEFERIDO</td>\n",
       "      <td>2</td>\n",
       "      <td>DEFERIDO</td>\n",
       "      <td>SIM</td>\n",
       "    </tr>\n",
       "    <tr>\n",
       "      <th>29179</th>\n",
       "      <td>08/08/2021</td>\n",
       "      <td>11:00:47</td>\n",
       "      <td>2018</td>\n",
       "      <td>2</td>\n",
       "      <td>ELEIÇÃO ORDINÁRIA</td>\n",
       "      <td>1</td>\n",
       "      <td>297</td>\n",
       "      <td>Eleições Gerais Estaduais 2018</td>\n",
       "      <td>07/10/2018</td>\n",
       "      <td>ESTADUAL</td>\n",
       "      <td>...</td>\n",
       "      <td>ELEITO POR QP</td>\n",
       "      <td>S</td>\n",
       "      <td>S</td>\n",
       "      <td>-1</td>\n",
       "      <td>6016522320186160000</td>\n",
       "      <td>2</td>\n",
       "      <td>DEFERIDO</td>\n",
       "      <td>2</td>\n",
       "      <td>DEFERIDO</td>\n",
       "      <td>SIM</td>\n",
       "    </tr>\n",
       "  </tbody>\n",
       "</table>\n",
       "<p>5 rows × 63 columns</p>\n",
       "</div>"
      ],
      "text/plain": [
       "       DT_GERACAO HH_GERACAO  ANO_ELEICAO  CD_TIPO_ELEICAO    NM_TIPO_ELEICAO  \\\n",
       "29175  08/08/2021   11:00:47         2018                2  ELEIÇÃO ORDINÁRIA   \n",
       "29176  08/08/2021   11:00:47         2018                2  ELEIÇÃO ORDINÁRIA   \n",
       "29177  08/08/2021   11:00:47         2018                2  ELEIÇÃO ORDINÁRIA   \n",
       "29178  08/08/2021   11:00:47         2018                2  ELEIÇÃO ORDINÁRIA   \n",
       "29179  08/08/2021   11:00:47         2018                2  ELEIÇÃO ORDINÁRIA   \n",
       "\n",
       "       NR_TURNO  CD_ELEICAO                      DS_ELEICAO  DT_ELEICAO  \\\n",
       "29175         1         297  Eleições Gerais Estaduais 2018  07/10/2018   \n",
       "29176         1         297  Eleições Gerais Estaduais 2018  07/10/2018   \n",
       "29177         1         297  Eleições Gerais Estaduais 2018  07/10/2018   \n",
       "29178         1         297  Eleições Gerais Estaduais 2018  07/10/2018   \n",
       "29179         1         297  Eleições Gerais Estaduais 2018  07/10/2018   \n",
       "\n",
       "      TP_ABRANGENCIA  ... DS_SIT_TOT_TURNO ST_REELEICAO ST_DECLARAR_BENS  \\\n",
       "29175       ESTADUAL  ...         SUPLENTE            N                N   \n",
       "29176       ESTADUAL  ...         SUPLENTE            N                S   \n",
       "29177       ESTADUAL  ...       NÃO ELEITO            N                S   \n",
       "29178       ESTADUAL  ...       NÃO ELEITO            N                N   \n",
       "29179       ESTADUAL  ...    ELEITO POR QP            S                S   \n",
       "\n",
       "       NR_PROTOCOLO_CANDIDATURA          NR_PROCESSO  \\\n",
       "29175                        -1  6007182220186140000   \n",
       "29176                        -1  6007439420186190000   \n",
       "29177                        -1  6001802020186040000   \n",
       "29178                        -1  6001940420186040000   \n",
       "29179                        -1  6016522320186160000   \n",
       "\n",
       "       CD_SITUACAO_CANDIDATO_PLEITO  DS_SITUACAO_CANDIDATO_PLEITO  \\\n",
       "29175                             2                      DEFERIDO   \n",
       "29176                             2                      DEFERIDO   \n",
       "29177                             2                      DEFERIDO   \n",
       "29178                             2                      DEFERIDO   \n",
       "29179                             2                      DEFERIDO   \n",
       "\n",
       "      CD_SITUACAO_CANDIDATO_URNA DS_SITUACAO_CANDIDATO_URNA  \\\n",
       "29175                          2                   DEFERIDO   \n",
       "29176                          2                   DEFERIDO   \n",
       "29177                          2                   DEFERIDO   \n",
       "29178                          2                   DEFERIDO   \n",
       "29179                          2                   DEFERIDO   \n",
       "\n",
       "      ST_CANDIDATO_INSERIDO_URNA  \n",
       "29175                        SIM  \n",
       "29176                        SIM  \n",
       "29177                        SIM  \n",
       "29178                        SIM  \n",
       "29179                        SIM  \n",
       "\n",
       "[5 rows x 63 columns]"
      ]
     },
     "execution_count": 4,
     "metadata": {},
     "output_type": "execute_result"
    }
   ],
   "source": [
    "dataframe.tail()"
   ]
  },
  {
   "cell_type": "code",
   "execution_count": 5,
   "id": "768bd437",
   "metadata": {},
   "outputs": [
    {
     "name": "stdout",
     "output_type": "stream",
     "text": [
      "<class 'pandas.core.frame.DataFrame'>\n",
      "RangeIndex: 29180 entries, 0 to 29179\n",
      "Data columns (total 63 columns):\n",
      " #   Column                         Non-Null Count  Dtype  \n",
      "---  ------                         --------------  -----  \n",
      " 0   DT_GERACAO                     29180 non-null  object \n",
      " 1   HH_GERACAO                     29180 non-null  object \n",
      " 2   ANO_ELEICAO                    29180 non-null  int64  \n",
      " 3   CD_TIPO_ELEICAO                29180 non-null  int64  \n",
      " 4   NM_TIPO_ELEICAO                29180 non-null  object \n",
      " 5   NR_TURNO                       29180 non-null  int64  \n",
      " 6   CD_ELEICAO                     29180 non-null  int64  \n",
      " 7   DS_ELEICAO                     29180 non-null  object \n",
      " 8   DT_ELEICAO                     29180 non-null  object \n",
      " 9   TP_ABRANGENCIA                 29180 non-null  object \n",
      " 10  SG_UF                          29180 non-null  object \n",
      " 11  SG_UE                          29180 non-null  object \n",
      " 12  NM_UE                          29180 non-null  object \n",
      " 13  CD_CARGO                       29180 non-null  int64  \n",
      " 14  DS_CARGO                       29180 non-null  object \n",
      " 15  SQ_CANDIDATO                   29180 non-null  int64  \n",
      " 16  NR_CANDIDATO                   29180 non-null  int64  \n",
      " 17  NM_CANDIDATO                   29180 non-null  object \n",
      " 18  NM_URNA_CANDIDATO              29180 non-null  object \n",
      " 19  NM_SOCIAL_CANDIDATO            29180 non-null  object \n",
      " 20  NR_CPF_CANDIDATO               29180 non-null  object \n",
      " 21  NM_EMAIL                       29180 non-null  object \n",
      " 22  CD_SITUACAO_CANDIDATURA        29180 non-null  int64  \n",
      " 23  DS_SITUACAO_CANDIDATURA        29180 non-null  object \n",
      " 24  CD_DETALHE_SITUACAO_CAND       29180 non-null  int64  \n",
      " 25  DS_DETALHE_SITUACAO_CAND       29180 non-null  object \n",
      " 26  TP_AGREMIACAO                  29180 non-null  object \n",
      " 27  NR_PARTIDO                     29180 non-null  int64  \n",
      " 28  SG_PARTIDO                     29180 non-null  object \n",
      " 29  NM_PARTIDO                     29180 non-null  object \n",
      " 30  SQ_COLIGACAO                   29180 non-null  int64  \n",
      " 31  NM_COLIGACAO                   29180 non-null  object \n",
      " 32  DS_COMPOSICAO_COLIGACAO        29180 non-null  object \n",
      " 33  CD_NACIONALIDADE               29180 non-null  int64  \n",
      " 34  DS_NACIONALIDADE               29180 non-null  object \n",
      " 35  SG_UF_NASCIMENTO               29180 non-null  object \n",
      " 36  CD_MUNICIPIO_NASCIMENTO        29180 non-null  int64  \n",
      " 37  NM_MUNICIPIO_NASCIMENTO        29180 non-null  object \n",
      " 38  DT_NASCIMENTO                  29179 non-null  object \n",
      " 39  NR_IDADE_DATA_POSSE            29179 non-null  float64\n",
      " 40  NR_TITULO_ELEITORAL_CANDIDATO  29180 non-null  int64  \n",
      " 41  CD_GENERO                      29180 non-null  int64  \n",
      " 42  DS_GENERO                      29180 non-null  object \n",
      " 43  CD_GRAU_INSTRUCAO              29180 non-null  int64  \n",
      " 44  DS_GRAU_INSTRUCAO              29180 non-null  object \n",
      " 45  CD_ESTADO_CIVIL                29180 non-null  int64  \n",
      " 46  DS_ESTADO_CIVIL                29180 non-null  object \n",
      " 47  CD_COR_RACA                    29180 non-null  int64  \n",
      " 48  DS_COR_RACA                    29180 non-null  object \n",
      " 49  CD_OCUPACAO                    29180 non-null  int64  \n",
      " 50  DS_OCUPACAO                    29180 non-null  object \n",
      " 51  VR_DESPESA_MAX_CAMPANHA        29180 non-null  int64  \n",
      " 52  CD_SIT_TOT_TURNO               29180 non-null  int64  \n",
      " 53  DS_SIT_TOT_TURNO               29180 non-null  object \n",
      " 54  ST_REELEICAO                   29180 non-null  object \n",
      " 55  ST_DECLARAR_BENS               29180 non-null  object \n",
      " 56  NR_PROTOCOLO_CANDIDATURA       29180 non-null  int64  \n",
      " 57  NR_PROCESSO                    29180 non-null  int64  \n",
      " 58  CD_SITUACAO_CANDIDATO_PLEITO   29180 non-null  int64  \n",
      " 59  DS_SITUACAO_CANDIDATO_PLEITO   29180 non-null  object \n",
      " 60  CD_SITUACAO_CANDIDATO_URNA     29180 non-null  int64  \n",
      " 61  DS_SITUACAO_CANDIDATO_URNA     29180 non-null  object \n",
      " 62  ST_CANDIDATO_INSERIDO_URNA     29180 non-null  object \n",
      "dtypes: float64(1), int64(25), object(37)\n",
      "memory usage: 14.0+ MB\n"
     ]
    }
   ],
   "source": [
    "dataframe.info()"
   ]
  },
  {
   "cell_type": "markdown",
   "id": "7a3d87b0",
   "metadata": {},
   "source": [
    "### Outliers"
   ]
  },
  {
   "cell_type": "code",
   "execution_count": 6,
   "id": "123157c5",
   "metadata": {},
   "outputs": [
    {
     "data": {
      "text/plain": [
       "0        40.0\n",
       "1        54.0\n",
       "2        46.0\n",
       "3        79.0\n",
       "4        29.0\n",
       "         ... \n",
       "29175    68.0\n",
       "29176    52.0\n",
       "29177    52.0\n",
       "29178    28.0\n",
       "29179    61.0\n",
       "Name: NR_IDADE_DATA_POSSE, Length: 29180, dtype: float64"
      ]
     },
     "execution_count": 6,
     "metadata": {},
     "output_type": "execute_result"
    }
   ],
   "source": [
    "dataframe['NR_IDADE_DATA_POSSE']"
   ]
  },
  {
   "cell_type": "code",
   "execution_count": 7,
   "id": "c0b4b9e8",
   "metadata": {},
   "outputs": [
    {
     "name": "stdout",
     "output_type": "stream",
     "text": [
      "807.0\n"
     ]
    }
   ],
   "source": [
    "print(dataframe['NR_IDADE_DATA_POSSE'].max() - dataframe['NR_IDADE_DATA_POSSE'].min())"
   ]
  },
  {
   "cell_type": "code",
   "execution_count": 8,
   "id": "71bd65fd",
   "metadata": {},
   "outputs": [
    {
     "name": "stdout",
     "output_type": "stream",
     "text": [
      "825.0\n"
     ]
    }
   ],
   "source": [
    "print(dataframe['NR_IDADE_DATA_POSSE'].max())"
   ]
  },
  {
   "cell_type": "code",
   "execution_count": 9,
   "id": "54cc884c",
   "metadata": {},
   "outputs": [
    {
     "data": {
      "text/html": [
       "<div>\n",
       "<style scoped>\n",
       "    .dataframe tbody tr th:only-of-type {\n",
       "        vertical-align: middle;\n",
       "    }\n",
       "\n",
       "    .dataframe tbody tr th {\n",
       "        vertical-align: top;\n",
       "    }\n",
       "\n",
       "    .dataframe thead th {\n",
       "        text-align: right;\n",
       "    }\n",
       "</style>\n",
       "<table border=\"1\" class=\"dataframe\">\n",
       "  <thead>\n",
       "    <tr style=\"text-align: right;\">\n",
       "      <th></th>\n",
       "      <th>DT_GERACAO</th>\n",
       "      <th>HH_GERACAO</th>\n",
       "      <th>ANO_ELEICAO</th>\n",
       "      <th>CD_TIPO_ELEICAO</th>\n",
       "      <th>NM_TIPO_ELEICAO</th>\n",
       "      <th>NR_TURNO</th>\n",
       "      <th>CD_ELEICAO</th>\n",
       "      <th>DS_ELEICAO</th>\n",
       "      <th>DT_ELEICAO</th>\n",
       "      <th>TP_ABRANGENCIA</th>\n",
       "      <th>...</th>\n",
       "      <th>DS_SIT_TOT_TURNO</th>\n",
       "      <th>ST_REELEICAO</th>\n",
       "      <th>ST_DECLARAR_BENS</th>\n",
       "      <th>NR_PROTOCOLO_CANDIDATURA</th>\n",
       "      <th>NR_PROCESSO</th>\n",
       "      <th>CD_SITUACAO_CANDIDATO_PLEITO</th>\n",
       "      <th>DS_SITUACAO_CANDIDATO_PLEITO</th>\n",
       "      <th>CD_SITUACAO_CANDIDATO_URNA</th>\n",
       "      <th>DS_SITUACAO_CANDIDATO_URNA</th>\n",
       "      <th>ST_CANDIDATO_INSERIDO_URNA</th>\n",
       "    </tr>\n",
       "  </thead>\n",
       "  <tbody>\n",
       "    <tr>\n",
       "      <th>26240</th>\n",
       "      <td>08/08/2021</td>\n",
       "      <td>11:00:47</td>\n",
       "      <td>2018</td>\n",
       "      <td>2</td>\n",
       "      <td>ELEIÇÃO ORDINÁRIA</td>\n",
       "      <td>1</td>\n",
       "      <td>297</td>\n",
       "      <td>Eleições Gerais Estaduais 2018</td>\n",
       "      <td>07/10/2018</td>\n",
       "      <td>ESTADUAL</td>\n",
       "      <td>...</td>\n",
       "      <td>#NULO#</td>\n",
       "      <td>N</td>\n",
       "      <td>N</td>\n",
       "      <td>-1</td>\n",
       "      <td>6002947720186140000</td>\n",
       "      <td>-1</td>\n",
       "      <td>#NULO#</td>\n",
       "      <td>-1</td>\n",
       "      <td>#NULO#</td>\n",
       "      <td>NÃO</td>\n",
       "    </tr>\n",
       "  </tbody>\n",
       "</table>\n",
       "<p>1 rows × 63 columns</p>\n",
       "</div>"
      ],
      "text/plain": [
       "       DT_GERACAO HH_GERACAO  ANO_ELEICAO  CD_TIPO_ELEICAO    NM_TIPO_ELEICAO  \\\n",
       "26240  08/08/2021   11:00:47         2018                2  ELEIÇÃO ORDINÁRIA   \n",
       "\n",
       "       NR_TURNO  CD_ELEICAO                      DS_ELEICAO  DT_ELEICAO  \\\n",
       "26240         1         297  Eleições Gerais Estaduais 2018  07/10/2018   \n",
       "\n",
       "      TP_ABRANGENCIA  ... DS_SIT_TOT_TURNO ST_REELEICAO ST_DECLARAR_BENS  \\\n",
       "26240       ESTADUAL  ...           #NULO#            N                N   \n",
       "\n",
       "       NR_PROTOCOLO_CANDIDATURA          NR_PROCESSO  \\\n",
       "26240                        -1  6002947720186140000   \n",
       "\n",
       "       CD_SITUACAO_CANDIDATO_PLEITO  DS_SITUACAO_CANDIDATO_PLEITO  \\\n",
       "26240                            -1                        #NULO#   \n",
       "\n",
       "      CD_SITUACAO_CANDIDATO_URNA DS_SITUACAO_CANDIDATO_URNA  \\\n",
       "26240                         -1                     #NULO#   \n",
       "\n",
       "      ST_CANDIDATO_INSERIDO_URNA  \n",
       "26240                        NÃO  \n",
       "\n",
       "[1 rows x 63 columns]"
      ]
     },
     "execution_count": 9,
     "metadata": {},
     "output_type": "execute_result"
    }
   ],
   "source": [
    "dataframe[dataframe.NR_IDADE_DATA_POSSE == 825]"
   ]
  },
  {
   "cell_type": "code",
   "execution_count": 10,
   "id": "c40e35ec",
   "metadata": {},
   "outputs": [
    {
     "name": "stderr",
     "output_type": "stream",
     "text": [
      "C:\\Users\\foliveira\\Anaconda3\\lib\\site-packages\\seaborn\\distributions.py:2557: FutureWarning: `distplot` is a deprecated function and will be removed in a future version. Please adapt your code to use either `displot` (a figure-level function with similar flexibility) or `histplot` (an axes-level function for histograms).\n",
      "  warnings.warn(msg, FutureWarning)\n"
     ]
    },
    {
     "data": {
      "text/plain": [
       "<AxesSubplot:xlabel='NR_IDADE_DATA_POSSE', ylabel='Density'>"
      ]
     },
     "execution_count": 10,
     "metadata": {},
     "output_type": "execute_result"
    },
    {
     "data": {
      "image/png": "[encoded data removed]",
      "text/plain": [
       "<Figure size 432x288 with 1 Axes>"
      ]
     },
     "metadata": {
      "needs_background": "light"
     },
     "output_type": "display_data"
    }
   ],
   "source": [
    "sns.distplot(dataframe['NR_IDADE_DATA_POSSE'], color='r')"
   ]
  },
  {
   "cell_type": "code",
   "execution_count": 11,
   "id": "50bbffcd",
   "metadata": {},
   "outputs": [],
   "source": [
    "dataframe = dataframe.drop(dataframe.index[26240])"
   ]
  },
  {
   "cell_type": "code",
   "execution_count": 12,
   "id": "91fe1f0e",
   "metadata": {},
   "outputs": [
    {
     "name": "stderr",
     "output_type": "stream",
     "text": [
      "C:\\Users\\foliveira\\Anaconda3\\lib\\site-packages\\seaborn\\distributions.py:2557: FutureWarning: `distplot` is a deprecated function and will be removed in a future version. Please adapt your code to use either `displot` (a figure-level function with similar flexibility) or `histplot` (an axes-level function for histograms).\n",
      "  warnings.warn(msg, FutureWarning)\n"
     ]
    },
    {
     "data": {
      "text/plain": [
       "<AxesSubplot:xlabel='NR_IDADE_DATA_POSSE', ylabel='Density'>"
      ]
     },
     "execution_count": 12,
     "metadata": {},
     "output_type": "execute_result"
    },
    {
     "data": {
      "image/png": "[encoded data removed]",
      "text/plain": [
       "<Figure size 432x288 with 1 Axes>"
      ]
     },
     "metadata": {
      "needs_background": "light"
     },
     "output_type": "display_data"
    }
   ],
   "source": [
    "sns.distplot(dataframe['NR_IDADE_DATA_POSSE'], color='r')"
   ]
  },
  {
   "cell_type": "markdown",
   "id": "7eb4a283",
   "metadata": {},
   "source": [
    "# DESPESAS MAX CAMPANHA"
   ]
  },
  {
   "cell_type": "code",
   "execution_count": 13,
   "id": "4d0975bc",
   "metadata": {},
   "outputs": [
    {
     "data": {
      "text/plain": [
       "0        9100000\n",
       "1        4200000\n",
       "2        1000000\n",
       "3        1000000\n",
       "4        2500000\n",
       "          ...   \n",
       "29175    1000000\n",
       "29176    1000000\n",
       "29177    1000000\n",
       "29178    1000000\n",
       "29179    1000000\n",
       "Name: VR_DESPESA_MAX_CAMPANHA, Length: 29179, dtype: int64"
      ]
     },
     "execution_count": 13,
     "metadata": {},
     "output_type": "execute_result"
    }
   ],
   "source": [
    "dataframe['VR_DESPESA_MAX_CAMPANHA']"
   ]
  },
  {
   "cell_type": "code",
   "execution_count": 14,
   "id": "f2e3d848",
   "metadata": {},
   "outputs": [
    {
     "name": "stderr",
     "output_type": "stream",
     "text": [
      "C:\\Users\\foliveira\\Anaconda3\\lib\\site-packages\\seaborn\\distributions.py:2557: FutureWarning: `distplot` is a deprecated function and will be removed in a future version. Please adapt your code to use either `displot` (a figure-level function with similar flexibility) or `histplot` (an axes-level function for histograms).\n",
      "  warnings.warn(msg, FutureWarning)\n"
     ]
    },
    {
     "data": {
      "text/plain": [
       "<AxesSubplot:xlabel='VR_DESPESA_MAX_CAMPANHA', ylabel='Density'>"
      ]
     },
     "execution_count": 14,
     "metadata": {},
     "output_type": "execute_result"
    },
    {
     "data": {
      "image/png": "[encoded data removed]",
      "text/plain": [
       "<Figure size 432x288 with 1 Axes>"
      ]
     },
     "metadata": {
      "needs_background": "light"
     },
     "output_type": "display_data"
    }
   ],
   "source": [
    "sns.distplot(dataframe['VR_DESPESA_MAX_CAMPANHA'], color='r')"
   ]
  },
  {
   "cell_type": "code",
   "execution_count": 15,
   "id": "f53d56db",
   "metadata": {},
   "outputs": [
    {
     "name": "stdout",
     "output_type": "stream",
     "text": [
      "70000000\n"
     ]
    }
   ],
   "source": [
    "print(dataframe['VR_DESPESA_MAX_CAMPANHA'].max())"
   ]
  },
  {
   "cell_type": "code",
   "execution_count": 16,
   "id": "0983065c",
   "metadata": {},
   "outputs": [],
   "source": [
    "dt2=dataframe.groupby('NR_IDADE_DATA_POSSE').agg({'VR_DESPESA_MAX_CAMPANHA':['count','max','sum']})"
   ]
  },
  {
   "cell_type": "code",
   "execution_count": 17,
   "id": "50910a06",
   "metadata": {},
   "outputs": [],
   "source": [
    "dt2.columns=['_'.join(col) for col in dt2.columns.ravel()]"
   ]
  },
  {
   "cell_type": "code",
   "execution_count": 18,
   "id": "d72d2a87",
   "metadata": {},
   "outputs": [],
   "source": [
    "dt2=dt2.rename(columns= {'VR_DESPESA_MAX_CAMPANHA_count':'count',\n",
    "          'VR_DESPESA_MAX_CAMPANHA_max':'max',\n",
    "          'VR_DESPESA_MAX_CAMPANHA_sum':'sum'})"
   ]
  },
  {
   "cell_type": "code",
   "execution_count": 19,
   "id": "f4c75e35",
   "metadata": {},
   "outputs": [],
   "source": [
    "dt2=dt2.sort_values('count', ascending=False)"
   ]
  },
  {
   "cell_type": "code",
   "execution_count": 20,
   "id": "0d6c4f0f",
   "metadata": {},
   "outputs": [
    {
     "data": {
      "text/html": [
       "<div>\n",
       "<style scoped>\n",
       "    .dataframe tbody tr th:only-of-type {\n",
       "        vertical-align: middle;\n",
       "    }\n",
       "\n",
       "    .dataframe tbody tr th {\n",
       "        vertical-align: top;\n",
       "    }\n",
       "\n",
       "    .dataframe thead th {\n",
       "        text-align: right;\n",
       "    }\n",
       "</style>\n",
       "<table border=\"1\" class=\"dataframe\">\n",
       "  <thead>\n",
       "    <tr style=\"text-align: right;\">\n",
       "      <th></th>\n",
       "      <th>count</th>\n",
       "      <th>max</th>\n",
       "      <th>sum</th>\n",
       "    </tr>\n",
       "    <tr>\n",
       "      <th>NR_IDADE_DATA_POSSE</th>\n",
       "      <th></th>\n",
       "      <th></th>\n",
       "      <th></th>\n",
       "    </tr>\n",
       "  </thead>\n",
       "  <tbody>\n",
       "    <tr>\n",
       "      <th>52.0</th>\n",
       "      <td>974</td>\n",
       "      <td>14000000</td>\n",
       "      <td>1573549993</td>\n",
       "    </tr>\n",
       "    <tr>\n",
       "      <th>49.0</th>\n",
       "      <td>974</td>\n",
       "      <td>21000000</td>\n",
       "      <td>1507999992</td>\n",
       "    </tr>\n",
       "    <tr>\n",
       "      <th>46.0</th>\n",
       "      <td>971</td>\n",
       "      <td>9100000</td>\n",
       "      <td>1505099991</td>\n",
       "    </tr>\n",
       "    <tr>\n",
       "      <th>48.0</th>\n",
       "      <td>965</td>\n",
       "      <td>14000000</td>\n",
       "      <td>1520499994</td>\n",
       "    </tr>\n",
       "    <tr>\n",
       "      <th>50.0</th>\n",
       "      <td>925</td>\n",
       "      <td>21000000</td>\n",
       "      <td>1459849990</td>\n",
       "    </tr>\n",
       "  </tbody>\n",
       "</table>\n",
       "</div>"
      ],
      "text/plain": [
       "                     count       max         sum\n",
       "NR_IDADE_DATA_POSSE                             \n",
       "52.0                   974  14000000  1573549993\n",
       "49.0                   974  21000000  1507999992\n",
       "46.0                   971   9100000  1505099991\n",
       "48.0                   965  14000000  1520499994\n",
       "50.0                   925  21000000  1459849990"
      ]
     },
     "execution_count": 20,
     "metadata": {},
     "output_type": "execute_result"
    }
   ],
   "source": [
    "dt2.head(5)"
   ]
  },
  {
   "cell_type": "code",
   "execution_count": 21,
   "id": "5f96015e",
   "metadata": {},
   "outputs": [],
   "source": [
    "dt3=dataframe.groupby('SG_UE').agg({'VR_DESPESA_MAX_CAMPANHA':['count','max','sum']})"
   ]
  },
  {
   "cell_type": "code",
   "execution_count": 22,
   "id": "5ee34d56",
   "metadata": {},
   "outputs": [],
   "source": [
    "dt3.columns=['_'.join(col) for col in dt2.columns.ravel()]"
   ]
  },
  {
   "cell_type": "code",
   "execution_count": 23,
   "id": "06ed7e0f",
   "metadata": {},
   "outputs": [
    {
     "data": {
      "text/plain": [
       "Index(['c_o_u_n_t', 'm_a_x', 's_u_m'], dtype='object')"
      ]
     },
     "execution_count": 23,
     "metadata": {},
     "output_type": "execute_result"
    }
   ],
   "source": [
    "dt3.columns"
   ]
  },
  {
   "cell_type": "code",
   "execution_count": 24,
   "id": "1e4a76a6",
   "metadata": {},
   "outputs": [],
   "source": [
    "dt3=dt3.rename(columns= {'c_o_u_n_t':'count',\n",
    "          'm_a_x':'max',\n",
    "          's_u_m':'sum'})"
   ]
  },
  {
   "cell_type": "code",
   "execution_count": 25,
   "id": "f58a9649",
   "metadata": {},
   "outputs": [],
   "source": [
    "dt3=dt3.sort_values('count', ascending=False)"
   ]
  },
  {
   "cell_type": "code",
   "execution_count": 26,
   "id": "a63dd2e4",
   "metadata": {},
   "outputs": [
    {
     "data": {
      "text/html": [
       "<div>\n",
       "<style scoped>\n",
       "    .dataframe tbody tr th:only-of-type {\n",
       "        vertical-align: middle;\n",
       "    }\n",
       "\n",
       "    .dataframe tbody tr th {\n",
       "        vertical-align: top;\n",
       "    }\n",
       "\n",
       "    .dataframe thead th {\n",
       "        text-align: right;\n",
       "    }\n",
       "</style>\n",
       "<table border=\"1\" class=\"dataframe\">\n",
       "  <thead>\n",
       "    <tr style=\"text-align: right;\">\n",
       "      <th></th>\n",
       "      <th>count</th>\n",
       "      <th>max</th>\n",
       "      <th>sum</th>\n",
       "    </tr>\n",
       "    <tr>\n",
       "      <th>SG_UE</th>\n",
       "      <th></th>\n",
       "      <th></th>\n",
       "      <th></th>\n",
       "    </tr>\n",
       "  </thead>\n",
       "  <tbody>\n",
       "    <tr>\n",
       "      <th>SP</th>\n",
       "      <td>3952</td>\n",
       "      <td>21000000</td>\n",
       "      <td>7030199985</td>\n",
       "    </tr>\n",
       "    <tr>\n",
       "      <th>RJ</th>\n",
       "      <td>3699</td>\n",
       "      <td>14000000</td>\n",
       "      <td>5750399986</td>\n",
       "    </tr>\n",
       "    <tr>\n",
       "      <th>MG</th>\n",
       "      <td>2378</td>\n",
       "      <td>14000000</td>\n",
       "      <td>4032699988</td>\n",
       "    </tr>\n",
       "    <tr>\n",
       "      <th>RS</th>\n",
       "      <td>1344</td>\n",
       "      <td>9100000</td>\n",
       "      <td>2161399990</td>\n",
       "    </tr>\n",
       "    <tr>\n",
       "      <th>PR</th>\n",
       "      <td>1288</td>\n",
       "      <td>9100000</td>\n",
       "      <td>2161499990</td>\n",
       "    </tr>\n",
       "  </tbody>\n",
       "</table>\n",
       "</div>"
      ],
      "text/plain": [
       "       count       max         sum\n",
       "SG_UE                             \n",
       "SP      3952  21000000  7030199985\n",
       "RJ      3699  14000000  5750399986\n",
       "MG      2378  14000000  4032699988\n",
       "RS      1344   9100000  2161399990\n",
       "PR      1288   9100000  2161499990"
      ]
     },
     "execution_count": 26,
     "metadata": {},
     "output_type": "execute_result"
    }
   ],
   "source": [
    "dt3.head(5)"
   ]
  },
  {
   "cell_type": "markdown",
   "id": "dbc6da7a",
   "metadata": {},
   "source": [
    "# Gender "
   ]
  },
  {
   "cell_type": "code",
   "execution_count": 27,
   "id": "f74c711e",
   "metadata": {},
   "outputs": [
    {
     "data": {
      "text/plain": [
       "array([ 2,  4, -4], dtype=int64)"
      ]
     },
     "execution_count": 27,
     "metadata": {},
     "output_type": "execute_result"
    }
   ],
   "source": [
    "dataframe['CD_GENERO'].unique()"
   ]
  },
  {
   "cell_type": "code",
   "execution_count": 28,
   "id": "f0b0f303",
   "metadata": {},
   "outputs": [
    {
     "data": {
      "text/html": [
       "<div>\n",
       "<style scoped>\n",
       "    .dataframe tbody tr th:only-of-type {\n",
       "        vertical-align: middle;\n",
       "    }\n",
       "\n",
       "    .dataframe tbody tr th {\n",
       "        vertical-align: top;\n",
       "    }\n",
       "\n",
       "    .dataframe thead th {\n",
       "        text-align: right;\n",
       "    }\n",
       "</style>\n",
       "<table border=\"1\" class=\"dataframe\">\n",
       "  <thead>\n",
       "    <tr style=\"text-align: right;\">\n",
       "      <th></th>\n",
       "      <th>DT_GERACAO</th>\n",
       "      <th>HH_GERACAO</th>\n",
       "      <th>ANO_ELEICAO</th>\n",
       "      <th>CD_TIPO_ELEICAO</th>\n",
       "      <th>NM_TIPO_ELEICAO</th>\n",
       "      <th>NR_TURNO</th>\n",
       "      <th>CD_ELEICAO</th>\n",
       "      <th>DS_ELEICAO</th>\n",
       "      <th>DT_ELEICAO</th>\n",
       "      <th>TP_ABRANGENCIA</th>\n",
       "      <th>...</th>\n",
       "      <th>DS_SIT_TOT_TURNO</th>\n",
       "      <th>ST_REELEICAO</th>\n",
       "      <th>ST_DECLARAR_BENS</th>\n",
       "      <th>NR_PROTOCOLO_CANDIDATURA</th>\n",
       "      <th>NR_PROCESSO</th>\n",
       "      <th>CD_SITUACAO_CANDIDATO_PLEITO</th>\n",
       "      <th>DS_SITUACAO_CANDIDATO_PLEITO</th>\n",
       "      <th>CD_SITUACAO_CANDIDATO_URNA</th>\n",
       "      <th>DS_SITUACAO_CANDIDATO_URNA</th>\n",
       "      <th>ST_CANDIDATO_INSERIDO_URNA</th>\n",
       "    </tr>\n",
       "  </thead>\n",
       "  <tbody>\n",
       "    <tr>\n",
       "      <th>4813</th>\n",
       "      <td>08/08/2021</td>\n",
       "      <td>11:01:27</td>\n",
       "      <td>2018</td>\n",
       "      <td>2</td>\n",
       "      <td>ELEIÇÃO ORDINÁRIA</td>\n",
       "      <td>1</td>\n",
       "      <td>297</td>\n",
       "      <td>Eleições Gerais Estaduais 2018</td>\n",
       "      <td>07/10/2018</td>\n",
       "      <td>ESTADUAL</td>\n",
       "      <td>...</td>\n",
       "      <td>NÃO ELEITO</td>\n",
       "      <td>Não divulgável</td>\n",
       "      <td>Não divulgável</td>\n",
       "      <td>-1</td>\n",
       "      <td>6004575220186070000</td>\n",
       "      <td>2</td>\n",
       "      <td>DEFERIDO</td>\n",
       "      <td>2</td>\n",
       "      <td>DEFERIDO</td>\n",
       "      <td>SIM</td>\n",
       "    </tr>\n",
       "  </tbody>\n",
       "</table>\n",
       "<p>1 rows × 63 columns</p>\n",
       "</div>"
      ],
      "text/plain": [
       "      DT_GERACAO HH_GERACAO  ANO_ELEICAO  CD_TIPO_ELEICAO    NM_TIPO_ELEICAO  \\\n",
       "4813  08/08/2021   11:01:27         2018                2  ELEIÇÃO ORDINÁRIA   \n",
       "\n",
       "      NR_TURNO  CD_ELEICAO                      DS_ELEICAO  DT_ELEICAO  \\\n",
       "4813         1         297  Eleições Gerais Estaduais 2018  07/10/2018   \n",
       "\n",
       "     TP_ABRANGENCIA  ... DS_SIT_TOT_TURNO    ST_REELEICAO ST_DECLARAR_BENS  \\\n",
       "4813       ESTADUAL  ...       NÃO ELEITO  Não divulgável   Não divulgável   \n",
       "\n",
       "      NR_PROTOCOLO_CANDIDATURA          NR_PROCESSO  \\\n",
       "4813                        -1  6004575220186070000   \n",
       "\n",
       "      CD_SITUACAO_CANDIDATO_PLEITO  DS_SITUACAO_CANDIDATO_PLEITO  \\\n",
       "4813                             2                      DEFERIDO   \n",
       "\n",
       "     CD_SITUACAO_CANDIDATO_URNA DS_SITUACAO_CANDIDATO_URNA  \\\n",
       "4813                          2                   DEFERIDO   \n",
       "\n",
       "     ST_CANDIDATO_INSERIDO_URNA  \n",
       "4813                        SIM  \n",
       "\n",
       "[1 rows x 63 columns]"
      ]
     },
     "execution_count": 28,
     "metadata": {},
     "output_type": "execute_result"
    }
   ],
   "source": [
    "dataframe[dataframe.CD_GENERO == -4]"
   ]
  },
  {
   "cell_type": "code",
   "execution_count": 29,
   "id": "8f429373",
   "metadata": {},
   "outputs": [
    {
     "name": "stderr",
     "output_type": "stream",
     "text": [
      "C:\\Users\\foliveira\\Anaconda3\\lib\\site-packages\\seaborn\\distributions.py:2557: FutureWarning: `distplot` is a deprecated function and will be removed in a future version. Please adapt your code to use either `displot` (a figure-level function with similar flexibility) or `histplot` (an axes-level function for histograms).\n",
      "  warnings.warn(msg, FutureWarning)\n"
     ]
    },
    {
     "data": {
      "text/plain": [
       "<AxesSubplot:xlabel='CD_GENERO', ylabel='Density'>"
      ]
     },
     "execution_count": 29,
     "metadata": {},
     "output_type": "execute_result"
    },
    {
     "data": {
      "image/png": "[encoded data removed]",
      "text/plain": [
       "<Figure size 432x288 with 1 Axes>"
      ]
     },
     "metadata": {
      "needs_background": "light"
     },
     "output_type": "display_data"
    }
   ],
   "source": [
    "sns.distplot(dataframe['CD_GENERO'], color='r')"
   ]
  },
  {
   "cell_type": "code",
   "execution_count": 30,
   "id": "2e72e68b",
   "metadata": {},
   "outputs": [],
   "source": [
    "dataframe = dataframe.drop(dataframe.index[4813])"
   ]
  },
  {
   "cell_type": "code",
   "execution_count": 31,
   "id": "e9315c0a",
   "metadata": {},
   "outputs": [],
   "source": [
    "dt4=dataframe.groupby('CD_GENERO').agg({'VR_DESPESA_MAX_CAMPANHA':['count']})"
   ]
  },
  {
   "cell_type": "code",
   "execution_count": 32,
   "id": "227f25cf",
   "metadata": {},
   "outputs": [
    {
     "data": {
      "text/html": [
       "<div>\n",
       "<style scoped>\n",
       "    .dataframe tbody tr th:only-of-type {\n",
       "        vertical-align: middle;\n",
       "    }\n",
       "\n",
       "    .dataframe tbody tr th {\n",
       "        vertical-align: top;\n",
       "    }\n",
       "\n",
       "    .dataframe thead tr th {\n",
       "        text-align: left;\n",
       "    }\n",
       "\n",
       "    .dataframe thead tr:last-of-type th {\n",
       "        text-align: right;\n",
       "    }\n",
       "</style>\n",
       "<table border=\"1\" class=\"dataframe\">\n",
       "  <thead>\n",
       "    <tr>\n",
       "      <th></th>\n",
       "      <th>VR_DESPESA_MAX_CAMPANHA</th>\n",
       "    </tr>\n",
       "    <tr>\n",
       "      <th></th>\n",
       "      <th>count</th>\n",
       "    </tr>\n",
       "    <tr>\n",
       "      <th>CD_GENERO</th>\n",
       "      <th></th>\n",
       "    </tr>\n",
       "  </thead>\n",
       "  <tbody>\n",
       "    <tr>\n",
       "      <th>2</th>\n",
       "      <td>19957</td>\n",
       "    </tr>\n",
       "    <tr>\n",
       "      <th>4</th>\n",
       "      <td>9221</td>\n",
       "    </tr>\n",
       "  </tbody>\n",
       "</table>\n",
       "</div>"
      ],
      "text/plain": [
       "          VR_DESPESA_MAX_CAMPANHA\n",
       "                            count\n",
       "CD_GENERO                        \n",
       "2                           19957\n",
       "4                            9221"
      ]
     },
     "execution_count": 32,
     "metadata": {},
     "output_type": "execute_result"
    }
   ],
   "source": [
    "dt4"
   ]
  },
  {
   "cell_type": "code",
   "execution_count": 33,
   "id": "1c58a2a1",
   "metadata": {},
   "outputs": [],
   "source": [
    "dt4.columns=['_'.join(col) for col in dt4.columns.ravel()]"
   ]
  },
  {
   "cell_type": "code",
   "execution_count": 34,
   "id": "0c0fccc9",
   "metadata": {},
   "outputs": [
    {
     "data": {
      "text/plain": [
       "Index(['VR_DESPESA_MAX_CAMPANHA_count'], dtype='object')"
      ]
     },
     "execution_count": 34,
     "metadata": {},
     "output_type": "execute_result"
    }
   ],
   "source": [
    "dt4.columns"
   ]
  },
  {
   "cell_type": "code",
   "execution_count": 35,
   "id": "f178ad18",
   "metadata": {},
   "outputs": [],
   "source": [
    "dt4=dt4.rename(columns= {'VR_DESPESA_MAX_CAMPANHA_count':'gender'})"
   ]
  },
  {
   "cell_type": "code",
   "execution_count": 36,
   "id": "332847b7",
   "metadata": {},
   "outputs": [
    {
     "data": {
      "text/html": [
       "<div>\n",
       "<style scoped>\n",
       "    .dataframe tbody tr th:only-of-type {\n",
       "        vertical-align: middle;\n",
       "    }\n",
       "\n",
       "    .dataframe tbody tr th {\n",
       "        vertical-align: top;\n",
       "    }\n",
       "\n",
       "    .dataframe thead th {\n",
       "        text-align: right;\n",
       "    }\n",
       "</style>\n",
       "<table border=\"1\" class=\"dataframe\">\n",
       "  <thead>\n",
       "    <tr style=\"text-align: right;\">\n",
       "      <th></th>\n",
       "      <th>gender</th>\n",
       "    </tr>\n",
       "    <tr>\n",
       "      <th>CD_GENERO</th>\n",
       "      <th></th>\n",
       "    </tr>\n",
       "  </thead>\n",
       "  <tbody>\n",
       "    <tr>\n",
       "      <th>2</th>\n",
       "      <td>19957</td>\n",
       "    </tr>\n",
       "    <tr>\n",
       "      <th>4</th>\n",
       "      <td>9221</td>\n",
       "    </tr>\n",
       "  </tbody>\n",
       "</table>\n",
       "</div>"
      ],
      "text/plain": [
       "           gender\n",
       "CD_GENERO        \n",
       "2           19957\n",
       "4            9221"
      ]
     },
     "execution_count": 36,
     "metadata": {},
     "output_type": "execute_result"
    }
   ],
   "source": [
    "dt4"
   ]
  },
  {
   "cell_type": "code",
   "execution_count": 37,
   "id": "7f1e5535",
   "metadata": {},
   "outputs": [
    {
     "data": {
      "image/png": "[encoded data removed]",
      "text/plain": [
       "<Figure size 432x288 with 1 Axes>"
      ]
     },
     "metadata": {},
     "output_type": "display_data"
    }
   ],
   "source": [
    "mylabels = [\"Men\", \"woman\"]\n",
    "\n",
    "plt.pie(dt4['gender'], labels = mylabels, autopct='%1.0f%%')\n",
    "plt.legend(title = \"Gender\")\n",
    "plt.show()"
   ]
  },
  {
   "cell_type": "markdown",
   "id": "1c99bd20",
   "metadata": {},
   "source": [
    "# Ethnicity"
   ]
  },
  {
   "cell_type": "code",
   "execution_count": 38,
   "id": "9348ef1f",
   "metadata": {},
   "outputs": [
    {
     "data": {
      "text/plain": [
       "array([3, 1, 2, 4, 5], dtype=int64)"
      ]
     },
     "execution_count": 38,
     "metadata": {},
     "output_type": "execute_result"
    }
   ],
   "source": [
    "dataframe['CD_COR_RACA'].unique() "
   ]
  },
  {
   "cell_type": "code",
   "execution_count": 39,
   "id": "0acbf027",
   "metadata": {},
   "outputs": [
    {
     "data": {
      "text/plain": [
       "array(['PARDA', 'BRANCA', 'PRETA', 'AMARELA', 'INDÍGENA'], dtype=object)"
      ]
     },
     "execution_count": 39,
     "metadata": {},
     "output_type": "execute_result"
    }
   ],
   "source": [
    "dataframe['DS_COR_RACA'].unique() "
   ]
  },
  {
   "cell_type": "code",
   "execution_count": 40,
   "id": "0152c954",
   "metadata": {},
   "outputs": [
    {
     "name": "stderr",
     "output_type": "stream",
     "text": [
      "C:\\Users\\foliveira\\Anaconda3\\lib\\site-packages\\seaborn\\distributions.py:2557: FutureWarning: `distplot` is a deprecated function and will be removed in a future version. Please adapt your code to use either `displot` (a figure-level function with similar flexibility) or `histplot` (an axes-level function for histograms).\n",
      "  warnings.warn(msg, FutureWarning)\n"
     ]
    },
    {
     "data": {
      "text/plain": [
       "<AxesSubplot:xlabel='CD_COR_RACA', ylabel='Density'>"
      ]
     },
     "execution_count": 40,
     "metadata": {},
     "output_type": "execute_result"
    },
    {
     "data": {
      "image/png": "[encoded data removed]",
      "text/plain": [
       "<Figure size 432x288 with 1 Axes>"
      ]
     },
     "metadata": {
      "needs_background": "light"
     },
     "output_type": "display_data"
    }
   ],
   "source": [
    "sns.distplot(dataframe['CD_COR_RACA'], color='r')"
   ]
  },
  {
   "cell_type": "code",
   "execution_count": 41,
   "id": "93ab0af7",
   "metadata": {},
   "outputs": [
    {
     "data": {
      "text/plain": [
       "0           PARDA\n",
       "1          BRANCA\n",
       "2          BRANCA\n",
       "3           PARDA\n",
       "4          BRANCA\n",
       "           ...   \n",
       "29175       PARDA\n",
       "29176      BRANCA\n",
       "29177      BRANCA\n",
       "29178    INDÍGENA\n",
       "29179      BRANCA\n",
       "Name: DS_COR_RACA, Length: 29178, dtype: object"
      ]
     },
     "execution_count": 41,
     "metadata": {},
     "output_type": "execute_result"
    }
   ],
   "source": [
    "dataframe['DS_COR_RACA']"
   ]
  },
  {
   "cell_type": "code",
   "execution_count": 42,
   "id": "3675123e",
   "metadata": {},
   "outputs": [
    {
     "data": {
      "text/plain": [
       "0        3\n",
       "1        1\n",
       "2        1\n",
       "3        3\n",
       "4        1\n",
       "        ..\n",
       "29175    3\n",
       "29176    1\n",
       "29177    1\n",
       "29178    5\n",
       "29179    1\n",
       "Name: CD_COR_RACA, Length: 29178, dtype: int64"
      ]
     },
     "execution_count": 42,
     "metadata": {},
     "output_type": "execute_result"
    }
   ],
   "source": [
    "dataframe['CD_COR_RACA']"
   ]
  },
  {
   "cell_type": "markdown",
   "id": "e2b969bd",
   "metadata": {},
   "source": [
    "# 1 - Branca\n",
    "# 2 - Preta\n",
    "# 3 - Parda\n",
    "# 4 - Amarela\n",
    "# 5 - Indigena"
   ]
  },
  {
   "cell_type": "code",
   "execution_count": 53,
   "id": "df207bf2",
   "metadata": {},
   "outputs": [],
   "source": [
    "dt5=dataframe.groupby('DS_COR_RACA').agg({'DS_COR_RACA':['count']})"
   ]
  },
  {
   "cell_type": "code",
   "execution_count": 55,
   "id": "b13cfd87",
   "metadata": {},
   "outputs": [
    {
     "data": {
      "text/html": [
       "<div>\n",
       "<style scoped>\n",
       "    .dataframe tbody tr th:only-of-type {\n",
       "        vertical-align: middle;\n",
       "    }\n",
       "\n",
       "    .dataframe tbody tr th {\n",
       "        vertical-align: top;\n",
       "    }\n",
       "\n",
       "    .dataframe thead tr th {\n",
       "        text-align: left;\n",
       "    }\n",
       "\n",
       "    .dataframe thead tr:last-of-type th {\n",
       "        text-align: right;\n",
       "    }\n",
       "</style>\n",
       "<table border=\"1\" class=\"dataframe\">\n",
       "  <thead>\n",
       "    <tr>\n",
       "      <th></th>\n",
       "      <th>DS_COR_RACA</th>\n",
       "    </tr>\n",
       "    <tr>\n",
       "      <th></th>\n",
       "      <th>count</th>\n",
       "    </tr>\n",
       "    <tr>\n",
       "      <th>DS_COR_RACA</th>\n",
       "      <th></th>\n",
       "    </tr>\n",
       "  </thead>\n",
       "  <tbody>\n",
       "    <tr>\n",
       "      <th>AMARELA</th>\n",
       "      <td>169</td>\n",
       "    </tr>\n",
       "    <tr>\n",
       "      <th>BRANCA</th>\n",
       "      <td>15307</td>\n",
       "    </tr>\n",
       "    <tr>\n",
       "      <th>INDÍGENA</th>\n",
       "      <td>134</td>\n",
       "    </tr>\n",
       "    <tr>\n",
       "      <th>PARDA</th>\n",
       "      <td>10405</td>\n",
       "    </tr>\n",
       "    <tr>\n",
       "      <th>PRETA</th>\n",
       "      <td>3163</td>\n",
       "    </tr>\n",
       "  </tbody>\n",
       "</table>\n",
       "</div>"
      ],
      "text/plain": [
       "            DS_COR_RACA\n",
       "                  count\n",
       "DS_COR_RACA            \n",
       "AMARELA             169\n",
       "BRANCA            15307\n",
       "INDÍGENA            134\n",
       "PARDA             10405\n",
       "PRETA              3163"
      ]
     },
     "execution_count": 55,
     "metadata": {},
     "output_type": "execute_result"
    }
   ],
   "source": [
    "dt5"
   ]
  },
  {
   "cell_type": "code",
   "execution_count": 56,
   "id": "5475b442",
   "metadata": {},
   "outputs": [],
   "source": [
    "dt5.columns=['_'.join(col) for col in dt5.columns.ravel()]"
   ]
  },
  {
   "cell_type": "code",
   "execution_count": 57,
   "id": "821456a3",
   "metadata": {},
   "outputs": [
    {
     "data": {
      "text/plain": [
       "Index(['DS_COR_RACA_count'], dtype='object')"
      ]
     },
     "execution_count": 57,
     "metadata": {},
     "output_type": "execute_result"
    }
   ],
   "source": [
    "dt5.columns"
   ]
  },
  {
   "cell_type": "code",
   "execution_count": 64,
   "id": "c250d84d",
   "metadata": {},
   "outputs": [],
   "source": [
    "dt5=dt5.rename(columns= {'DS_COR_RACA_count':'Ethnicity'})"
   ]
  },
  {
   "cell_type": "code",
   "execution_count": 65,
   "id": "ab38043c",
   "metadata": {},
   "outputs": [
    {
     "data": {
      "text/html": [
       "<div>\n",
       "<style scoped>\n",
       "    .dataframe tbody tr th:only-of-type {\n",
       "        vertical-align: middle;\n",
       "    }\n",
       "\n",
       "    .dataframe tbody tr th {\n",
       "        vertical-align: top;\n",
       "    }\n",
       "\n",
       "    .dataframe thead th {\n",
       "        text-align: right;\n",
       "    }\n",
       "</style>\n",
       "<table border=\"1\" class=\"dataframe\">\n",
       "  <thead>\n",
       "    <tr style=\"text-align: right;\">\n",
       "      <th></th>\n",
       "      <th>Ethnicity</th>\n",
       "    </tr>\n",
       "    <tr>\n",
       "      <th>DS_COR_RACA</th>\n",
       "      <th></th>\n",
       "    </tr>\n",
       "  </thead>\n",
       "  <tbody>\n",
       "    <tr>\n",
       "      <th>AMARELA</th>\n",
       "      <td>169</td>\n",
       "    </tr>\n",
       "    <tr>\n",
       "      <th>BRANCA</th>\n",
       "      <td>15307</td>\n",
       "    </tr>\n",
       "    <tr>\n",
       "      <th>INDÍGENA</th>\n",
       "      <td>134</td>\n",
       "    </tr>\n",
       "    <tr>\n",
       "      <th>PARDA</th>\n",
       "      <td>10405</td>\n",
       "    </tr>\n",
       "    <tr>\n",
       "      <th>PRETA</th>\n",
       "      <td>3163</td>\n",
       "    </tr>\n",
       "  </tbody>\n",
       "</table>\n",
       "</div>"
      ],
      "text/plain": [
       "             Ethnicity\n",
       "DS_COR_RACA           \n",
       "AMARELA            169\n",
       "BRANCA           15307\n",
       "INDÍGENA           134\n",
       "PARDA            10405\n",
       "PRETA             3163"
      ]
     },
     "execution_count": 65,
     "metadata": {},
     "output_type": "execute_result"
    }
   ],
   "source": [
    "dt5"
   ]
  },
  {
   "cell_type": "code",
   "execution_count": 69,
   "id": "ebeea93f",
   "metadata": {},
   "outputs": [
    {
     "data": {
      "image/png": "[encoded data removed]",
      "text/plain": [
       "<Figure size 432x288 with 1 Axes>"
      ]
     },
     "metadata": {},
     "output_type": "display_data"
    }
   ],
   "source": [
    "mylabels = [\"Amarela\", \"Branca\", \"Indigena\", \"Parda\", \"Preta\"]\n",
    "\n",
    "plt.pie(dt5['Ethnicity'], labels = mylabels, autopct='%1.0f%%')\n",
    "plt.legend(title = \"Ethnicity\")\n",
    "plt.show()"
   ]
  },
  {
   "cell_type": "code",
   "execution_count": 78,
   "id": "be59fb87",
   "metadata": {},
   "outputs": [
    {
     "data": {
      "text/html": [
       "<div>\n",
       "<style scoped>\n",
       "    .dataframe tbody tr th:only-of-type {\n",
       "        vertical-align: middle;\n",
       "    }\n",
       "\n",
       "    .dataframe tbody tr th {\n",
       "        vertical-align: top;\n",
       "    }\n",
       "\n",
       "    .dataframe thead tr th {\n",
       "        text-align: left;\n",
       "    }\n",
       "\n",
       "    .dataframe thead tr:last-of-type th {\n",
       "        text-align: right;\n",
       "    }\n",
       "</style>\n",
       "<table border=\"1\" class=\"dataframe\">\n",
       "  <thead>\n",
       "    <tr>\n",
       "      <th></th>\n",
       "      <th></th>\n",
       "      <th>DS_COR_RACA</th>\n",
       "    </tr>\n",
       "    <tr>\n",
       "      <th></th>\n",
       "      <th></th>\n",
       "      <th>count</th>\n",
       "    </tr>\n",
       "    <tr>\n",
       "      <th>DS_COR_RACA</th>\n",
       "      <th>DS_GENERO</th>\n",
       "      <th></th>\n",
       "    </tr>\n",
       "  </thead>\n",
       "  <tbody>\n",
       "    <tr>\n",
       "      <th rowspan=\"2\" valign=\"top\">AMARELA</th>\n",
       "      <th>FEMININO</th>\n",
       "      <td>63</td>\n",
       "    </tr>\n",
       "    <tr>\n",
       "      <th>MASCULINO</th>\n",
       "      <td>106</td>\n",
       "    </tr>\n",
       "    <tr>\n",
       "      <th rowspan=\"2\" valign=\"top\">BRANCA</th>\n",
       "      <th>FEMININO</th>\n",
       "      <td>4704</td>\n",
       "    </tr>\n",
       "    <tr>\n",
       "      <th>MASCULINO</th>\n",
       "      <td>10603</td>\n",
       "    </tr>\n",
       "    <tr>\n",
       "      <th rowspan=\"2\" valign=\"top\">INDÍGENA</th>\n",
       "      <th>FEMININO</th>\n",
       "      <td>49</td>\n",
       "    </tr>\n",
       "    <tr>\n",
       "      <th>MASCULINO</th>\n",
       "      <td>85</td>\n",
       "    </tr>\n",
       "    <tr>\n",
       "      <th rowspan=\"2\" valign=\"top\">PARDA</th>\n",
       "      <th>FEMININO</th>\n",
       "      <td>3167</td>\n",
       "    </tr>\n",
       "    <tr>\n",
       "      <th>MASCULINO</th>\n",
       "      <td>7238</td>\n",
       "    </tr>\n",
       "    <tr>\n",
       "      <th rowspan=\"2\" valign=\"top\">PRETA</th>\n",
       "      <th>FEMININO</th>\n",
       "      <td>1238</td>\n",
       "    </tr>\n",
       "    <tr>\n",
       "      <th>MASCULINO</th>\n",
       "      <td>1925</td>\n",
       "    </tr>\n",
       "  </tbody>\n",
       "</table>\n",
       "</div>"
      ],
      "text/plain": [
       "                      DS_COR_RACA\n",
       "                            count\n",
       "DS_COR_RACA DS_GENERO            \n",
       "AMARELA     FEMININO           63\n",
       "            MASCULINO         106\n",
       "BRANCA      FEMININO         4704\n",
       "            MASCULINO       10603\n",
       "INDÍGENA    FEMININO           49\n",
       "            MASCULINO          85\n",
       "PARDA       FEMININO         3167\n",
       "            MASCULINO        7238\n",
       "PRETA       FEMININO         1238\n",
       "            MASCULINO        1925"
      ]
     },
     "execution_count": 78,
     "metadata": {},
     "output_type": "execute_result"
    }
   ],
   "source": [
    "dt6=dataframe.groupby(['DS_COR_RACA','DS_GENERO']).agg({'DS_COR_RACA':['count']})\n",
    "dt6"
   ]
  },
  {
   "cell_type": "code",
   "execution_count": 79,
   "id": "d6706b4f",
   "metadata": {},
   "outputs": [],
   "source": [
    "dt6.columns=['_'.join(col) for col in dt6.columns.ravel()]"
   ]
  },
  {
   "cell_type": "code",
   "execution_count": 80,
   "id": "46970c04",
   "metadata": {},
   "outputs": [
    {
     "data": {
      "text/plain": [
       "Index(['DS_COR_RACA_count'], dtype='object')"
      ]
     },
     "execution_count": 80,
     "metadata": {},
     "output_type": "execute_result"
    }
   ],
   "source": [
    "dt6.columns"
   ]
  },
  {
   "cell_type": "code",
   "execution_count": 81,
   "id": "69296608",
   "metadata": {},
   "outputs": [],
   "source": [
    "dt6=dt6.rename(columns= {'DS_COR_RACA_count':'gender'})"
   ]
  },
  {
   "cell_type": "code",
   "execution_count": 82,
   "id": "6f0741b2",
   "metadata": {},
   "outputs": [
    {
     "data": {
      "text/html": [
       "<div>\n",
       "<style scoped>\n",
       "    .dataframe tbody tr th:only-of-type {\n",
       "        vertical-align: middle;\n",
       "    }\n",
       "\n",
       "    .dataframe tbody tr th {\n",
       "        vertical-align: top;\n",
       "    }\n",
       "\n",
       "    .dataframe thead th {\n",
       "        text-align: right;\n",
       "    }\n",
       "</style>\n",
       "<table border=\"1\" class=\"dataframe\">\n",
       "  <thead>\n",
       "    <tr style=\"text-align: right;\">\n",
       "      <th></th>\n",
       "      <th></th>\n",
       "      <th>gender</th>\n",
       "    </tr>\n",
       "    <tr>\n",
       "      <th>DS_COR_RACA</th>\n",
       "      <th>DS_GENERO</th>\n",
       "      <th></th>\n",
       "    </tr>\n",
       "  </thead>\n",
       "  <tbody>\n",
       "    <tr>\n",
       "      <th rowspan=\"2\" valign=\"top\">AMARELA</th>\n",
       "      <th>FEMININO</th>\n",
       "      <td>63</td>\n",
       "    </tr>\n",
       "    <tr>\n",
       "      <th>MASCULINO</th>\n",
       "      <td>106</td>\n",
       "    </tr>\n",
       "    <tr>\n",
       "      <th rowspan=\"2\" valign=\"top\">BRANCA</th>\n",
       "      <th>FEMININO</th>\n",
       "      <td>4704</td>\n",
       "    </tr>\n",
       "    <tr>\n",
       "      <th>MASCULINO</th>\n",
       "      <td>10603</td>\n",
       "    </tr>\n",
       "    <tr>\n",
       "      <th rowspan=\"2\" valign=\"top\">INDÍGENA</th>\n",
       "      <th>FEMININO</th>\n",
       "      <td>49</td>\n",
       "    </tr>\n",
       "    <tr>\n",
       "      <th>MASCULINO</th>\n",
       "      <td>85</td>\n",
       "    </tr>\n",
       "    <tr>\n",
       "      <th rowspan=\"2\" valign=\"top\">PARDA</th>\n",
       "      <th>FEMININO</th>\n",
       "      <td>3167</td>\n",
       "    </tr>\n",
       "    <tr>\n",
       "      <th>MASCULINO</th>\n",
       "      <td>7238</td>\n",
       "    </tr>\n",
       "    <tr>\n",
       "      <th rowspan=\"2\" valign=\"top\">PRETA</th>\n",
       "      <th>FEMININO</th>\n",
       "      <td>1238</td>\n",
       "    </tr>\n",
       "    <tr>\n",
       "      <th>MASCULINO</th>\n",
       "      <td>1925</td>\n",
       "    </tr>\n",
       "  </tbody>\n",
       "</table>\n",
       "</div>"
      ],
      "text/plain": [
       "                       gender\n",
       "DS_COR_RACA DS_GENERO        \n",
       "AMARELA     FEMININO       63\n",
       "            MASCULINO     106\n",
       "BRANCA      FEMININO     4704\n",
       "            MASCULINO   10603\n",
       "INDÍGENA    FEMININO       49\n",
       "            MASCULINO      85\n",
       "PARDA       FEMININO     3167\n",
       "            MASCULINO    7238\n",
       "PRETA       FEMININO     1238\n",
       "            MASCULINO    1925"
      ]
     },
     "execution_count": 82,
     "metadata": {},
     "output_type": "execute_result"
    }
   ],
   "source": [
    "dt6"
   ]
  },
  {
   "cell_type": "code",
   "execution_count": 108,
   "id": "7dde3eab",
   "metadata": {},
   "outputs": [
    {
     "data": {
      "image/png": "[encoded data removed]",
      "text/plain": [
       "<Figure size 432x288 with 1 Axes>"
      ]
     },
     "metadata": {},
     "output_type": "display_data"
    }
   ],
   "source": [
    "mylabels = [\"Amarela FEMININO\", \"Amarela MASCULINO\",\"Branca FEMININO\", \"Branca MASCULINO\",\n",
    "            \"Indigena FEMININO\", \"Indigena MASCULINO\",\"Parda FEMININO\", \"Parda MASCULINO\", \n",
    "            \"Preta FEMININO\", \"Preta MASCULINO\"]\n",
    "\n",
    "plt.pie(dt6['gender'], labels = mylabels, autopct='%1.0f%%')\n",
    "plt.show()"
   ]
  },
  {
   "cell_type": "markdown",
   "id": "ed32d8c0",
   "metadata": {},
   "source": [
    "# NR_PARTIDO - Party"
   ]
  },
  {
   "cell_type": "code",
   "execution_count": 111,
   "id": "9faa82fb",
   "metadata": {},
   "outputs": [
    {
     "data": {
      "text/plain": [
       "array([29, 19, 70, 50, 17, 13, 15, 51, 23, 44, 55, 43, 28, 18, 45, 40, 22,\n",
       "       20, 14, 27, 77, 31, 10, 54, 12, 36, 33, 35, 90, 25, 21, 11, 65, 16,\n",
       "       30], dtype=int64)"
      ]
     },
     "execution_count": 111,
     "metadata": {},
     "output_type": "execute_result"
    }
   ],
   "source": [
    "dataframe['NR_PARTIDO'].unique()"
   ]
  },
  {
   "cell_type": "code",
   "execution_count": 112,
   "id": "bb459c5d",
   "metadata": {},
   "outputs": [
    {
     "data": {
      "text/plain": [
       "array(['PCO', 'PODE', 'AVANTE', 'PSOL', 'PSL', 'PT', 'MDB', 'PATRIOTA',\n",
       "       'PPS', 'PRP', 'PSD', 'PV', 'PRTB', 'REDE', 'PSDB', 'PSB', 'PR',\n",
       "       'PSC', 'PTB', 'DC', 'SOLIDARIEDADE', 'PHS', 'PRB', 'PPL', 'PDT',\n",
       "       'PTC', 'PMN', 'PMB', 'PROS', 'DEM', 'PCB', 'PP', 'PC do B', 'PSTU',\n",
       "       'NOVO', 'PL', 'CIDADANIA'], dtype=object)"
      ]
     },
     "execution_count": 112,
     "metadata": {},
     "output_type": "execute_result"
    }
   ],
   "source": [
    "dataframe['SG_PARTIDO'].unique()"
   ]
  },
  {
   "cell_type": "code",
   "execution_count": 113,
   "id": "8c9ea8f3",
   "metadata": {},
   "outputs": [
    {
     "data": {
      "text/plain": [
       "array(['PARTIDO DA CAUSA OPERÁRIA', 'PODEMOS', 'AVANTE',\n",
       "       'PARTIDO SOCIALISMO E LIBERDADE', 'PARTIDO SOCIAL LIBERAL',\n",
       "       'PARTIDO DOS TRABALHADORES', 'MOVIMENTO DEMOCRÁTICO BRASILEIRO',\n",
       "       'PATRIOTA', 'PARTIDO POPULAR SOCIALISTA',\n",
       "       'PARTIDO REPUBLICANO PROGRESSISTA', 'PARTIDO SOCIAL DEMOCRÁTICO',\n",
       "       'PARTIDO VERDE', 'PARTIDO RENOVADOR TRABALHISTA BRASILEIRO',\n",
       "       'REDE SUSTENTABILIDADE', 'PARTIDO DA SOCIAL DEMOCRACIA BRASILEIRA',\n",
       "       'PARTIDO SOCIALISTA BRASILEIRO', 'PARTIDO DA REPÚBLICA',\n",
       "       'PARTIDO SOCIAL CRISTÃO', 'PARTIDO TRABALHISTA BRASILEIRO',\n",
       "       'DEMOCRACIA CRISTÃ', 'SOLIDARIEDADE',\n",
       "       'PARTIDO HUMANISTA DA SOLIDARIEDADE',\n",
       "       'PARTIDO REPUBLICANO BRASILEIRO', 'PARTIDO PÁTRIA LIVRE',\n",
       "       'PARTIDO DEMOCRÁTICO TRABALHISTA', 'PARTIDO TRABALHISTA CRISTÃO',\n",
       "       'PARTIDO DA MOBILIZAÇÃO NACIONAL', 'PARTIDO DA MULHER BRASILEIRA',\n",
       "       'PARTIDO REPUBLICANO DA ORDEM SOCIAL', 'DEMOCRATAS',\n",
       "       'PARTIDO COMUNISTA BRASILEIRO', 'PROGRESSISTAS',\n",
       "       'PARTIDO COMUNISTA DO BRASIL',\n",
       "       'PARTIDO SOCIALISTA DOS TRABALHADORES UNIFICADO', 'PARTIDO NOVO',\n",
       "       'PARTIDO LIBERAL', 'CIDADANIA'], dtype=object)"
      ]
     },
     "execution_count": 113,
     "metadata": {},
     "output_type": "execute_result"
    }
   ],
   "source": [
    "dataframe['NM_PARTIDO'].unique()"
   ]
  },
  {
   "cell_type": "code",
   "execution_count": 116,
   "id": "705da75e",
   "metadata": {},
   "outputs": [
    {
     "data": {
      "text/html": [
       "<div>\n",
       "<style scoped>\n",
       "    .dataframe tbody tr th:only-of-type {\n",
       "        vertical-align: middle;\n",
       "    }\n",
       "\n",
       "    .dataframe tbody tr th {\n",
       "        vertical-align: top;\n",
       "    }\n",
       "\n",
       "    .dataframe thead tr th {\n",
       "        text-align: left;\n",
       "    }\n",
       "\n",
       "    .dataframe thead tr:last-of-type th {\n",
       "        text-align: right;\n",
       "    }\n",
       "</style>\n",
       "<table border=\"1\" class=\"dataframe\">\n",
       "  <thead>\n",
       "    <tr>\n",
       "      <th></th>\n",
       "      <th></th>\n",
       "      <th></th>\n",
       "      <th>DS_COR_RACA</th>\n",
       "    </tr>\n",
       "    <tr>\n",
       "      <th></th>\n",
       "      <th></th>\n",
       "      <th></th>\n",
       "      <th>count</th>\n",
       "    </tr>\n",
       "    <tr>\n",
       "      <th>SG_PARTIDO</th>\n",
       "      <th>DS_COR_RACA</th>\n",
       "      <th>DS_GENERO</th>\n",
       "      <th></th>\n",
       "    </tr>\n",
       "  </thead>\n",
       "  <tbody>\n",
       "    <tr>\n",
       "      <th rowspan=\"5\" valign=\"top\">AVANTE</th>\n",
       "      <th>AMARELA</th>\n",
       "      <th>FEMININO</th>\n",
       "      <td>3</td>\n",
       "    </tr>\n",
       "    <tr>\n",
       "      <th rowspan=\"2\" valign=\"top\">BRANCA</th>\n",
       "      <th>FEMININO</th>\n",
       "      <td>171</td>\n",
       "    </tr>\n",
       "    <tr>\n",
       "      <th>MASCULINO</th>\n",
       "      <td>350</td>\n",
       "    </tr>\n",
       "    <tr>\n",
       "      <th rowspan=\"2\" valign=\"top\">INDÍGENA</th>\n",
       "      <th>FEMININO</th>\n",
       "      <td>1</td>\n",
       "    </tr>\n",
       "    <tr>\n",
       "      <th>MASCULINO</th>\n",
       "      <td>1</td>\n",
       "    </tr>\n",
       "    <tr>\n",
       "      <th>...</th>\n",
       "      <th>...</th>\n",
       "      <th>...</th>\n",
       "      <td>...</td>\n",
       "    </tr>\n",
       "    <tr>\n",
       "      <th rowspan=\"5\" valign=\"top\">SOLIDARIEDADE</th>\n",
       "      <th>INDÍGENA</th>\n",
       "      <th>MASCULINO</th>\n",
       "      <td>1</td>\n",
       "    </tr>\n",
       "    <tr>\n",
       "      <th rowspan=\"2\" valign=\"top\">PARDA</th>\n",
       "      <th>FEMININO</th>\n",
       "      <td>97</td>\n",
       "    </tr>\n",
       "    <tr>\n",
       "      <th>MASCULINO</th>\n",
       "      <td>237</td>\n",
       "    </tr>\n",
       "    <tr>\n",
       "      <th rowspan=\"2\" valign=\"top\">PRETA</th>\n",
       "      <th>FEMININO</th>\n",
       "      <td>32</td>\n",
       "    </tr>\n",
       "    <tr>\n",
       "      <th>MASCULINO</th>\n",
       "      <td>39</td>\n",
       "    </tr>\n",
       "  </tbody>\n",
       "</table>\n",
       "<p>312 rows × 1 columns</p>\n",
       "</div>"
      ],
      "text/plain": [
       "                                    DS_COR_RACA\n",
       "                                          count\n",
       "SG_PARTIDO    DS_COR_RACA DS_GENERO            \n",
       "AVANTE        AMARELA     FEMININO            3\n",
       "              BRANCA      FEMININO          171\n",
       "                          MASCULINO         350\n",
       "              INDÍGENA    FEMININO            1\n",
       "                          MASCULINO           1\n",
       "...                                         ...\n",
       "SOLIDARIEDADE INDÍGENA    MASCULINO           1\n",
       "              PARDA       FEMININO           97\n",
       "                          MASCULINO         237\n",
       "              PRETA       FEMININO           32\n",
       "                          MASCULINO          39\n",
       "\n",
       "[312 rows x 1 columns]"
      ]
     },
     "execution_count": 116,
     "metadata": {},
     "output_type": "execute_result"
    }
   ],
   "source": [
    "dataframe.groupby(['SG_PARTIDO','DS_COR_RACA','DS_GENERO']).agg({'DS_COR_RACA':['count']})"
   ]
  },
  {
   "cell_type": "code",
   "execution_count": 119,
   "id": "f2916719",
   "metadata": {},
   "outputs": [
    {
     "data": {
      "text/html": [
       "<div>\n",
       "<style scoped>\n",
       "    .dataframe tbody tr th:only-of-type {\n",
       "        vertical-align: middle;\n",
       "    }\n",
       "\n",
       "    .dataframe tbody tr th {\n",
       "        vertical-align: top;\n",
       "    }\n",
       "\n",
       "    .dataframe thead tr th {\n",
       "        text-align: left;\n",
       "    }\n",
       "\n",
       "    .dataframe thead tr:last-of-type th {\n",
       "        text-align: right;\n",
       "    }\n",
       "</style>\n",
       "<table border=\"1\" class=\"dataframe\">\n",
       "  <thead>\n",
       "    <tr>\n",
       "      <th></th>\n",
       "      <th></th>\n",
       "      <th></th>\n",
       "      <th>DS_COR_RACA</th>\n",
       "    </tr>\n",
       "    <tr>\n",
       "      <th></th>\n",
       "      <th></th>\n",
       "      <th></th>\n",
       "      <th>count</th>\n",
       "    </tr>\n",
       "    <tr>\n",
       "      <th>SG_PARTIDO</th>\n",
       "      <th>DS_GENERO</th>\n",
       "      <th>DS_GRAU_INSTRUCAO</th>\n",
       "      <th></th>\n",
       "    </tr>\n",
       "  </thead>\n",
       "  <tbody>\n",
       "    <tr>\n",
       "      <th rowspan=\"5\" valign=\"top\">AVANTE</th>\n",
       "      <th rowspan=\"5\" valign=\"top\">FEMININO</th>\n",
       "      <th>ENSINO FUNDAMENTAL COMPLETO</th>\n",
       "      <td>21</td>\n",
       "    </tr>\n",
       "    <tr>\n",
       "      <th>ENSINO FUNDAMENTAL INCOMPLETO</th>\n",
       "      <td>21</td>\n",
       "    </tr>\n",
       "    <tr>\n",
       "      <th>ENSINO MÉDIO COMPLETO</th>\n",
       "      <td>119</td>\n",
       "    </tr>\n",
       "    <tr>\n",
       "      <th>ENSINO MÉDIO INCOMPLETO</th>\n",
       "      <td>16</td>\n",
       "    </tr>\n",
       "    <tr>\n",
       "      <th>LÊ E ESCREVE</th>\n",
       "      <td>6</td>\n",
       "    </tr>\n",
       "    <tr>\n",
       "      <th>...</th>\n",
       "      <th>...</th>\n",
       "      <th>...</th>\n",
       "      <td>...</td>\n",
       "    </tr>\n",
       "    <tr>\n",
       "      <th rowspan=\"5\" valign=\"top\">SOLIDARIEDADE</th>\n",
       "      <th rowspan=\"5\" valign=\"top\">MASCULINO</th>\n",
       "      <th>ENSINO MÉDIO COMPLETO</th>\n",
       "      <td>181</td>\n",
       "    </tr>\n",
       "    <tr>\n",
       "      <th>ENSINO MÉDIO INCOMPLETO</th>\n",
       "      <td>11</td>\n",
       "    </tr>\n",
       "    <tr>\n",
       "      <th>LÊ E ESCREVE</th>\n",
       "      <td>2</td>\n",
       "    </tr>\n",
       "    <tr>\n",
       "      <th>SUPERIOR COMPLETO</th>\n",
       "      <td>236</td>\n",
       "    </tr>\n",
       "    <tr>\n",
       "      <th>SUPERIOR INCOMPLETO</th>\n",
       "      <td>41</td>\n",
       "    </tr>\n",
       "  </tbody>\n",
       "</table>\n",
       "<p>473 rows × 1 columns</p>\n",
       "</div>"
      ],
      "text/plain": [
       "                                                      DS_COR_RACA\n",
       "                                                            count\n",
       "SG_PARTIDO    DS_GENERO DS_GRAU_INSTRUCAO                        \n",
       "AVANTE        FEMININO  ENSINO FUNDAMENTAL COMPLETO            21\n",
       "                        ENSINO FUNDAMENTAL INCOMPLETO          21\n",
       "                        ENSINO MÉDIO COMPLETO                 119\n",
       "                        ENSINO MÉDIO INCOMPLETO                16\n",
       "                        LÊ E ESCREVE                            6\n",
       "...                                                           ...\n",
       "SOLIDARIEDADE MASCULINO ENSINO MÉDIO COMPLETO                 181\n",
       "                        ENSINO MÉDIO INCOMPLETO                11\n",
       "                        LÊ E ESCREVE                            2\n",
       "                        SUPERIOR COMPLETO                     236\n",
       "                        SUPERIOR INCOMPLETO                    41\n",
       "\n",
       "[473 rows x 1 columns]"
      ]
     },
     "execution_count": 119,
     "metadata": {},
     "output_type": "execute_result"
    }
   ],
   "source": [
    "dt7=dataframe.groupby(['SG_PARTIDO','DS_GENERO', 'DS_GRAU_INSTRUCAO']).agg({'DS_COR_RACA':['count']})\n",
    "dt7"
   ]
  },
  {
   "cell_type": "code",
   "execution_count": 122,
   "id": "3196184f",
   "metadata": {},
   "outputs": [],
   "source": [
    "dt7.columns=['_'.join(col) for col in dt7.columns.ravel()]"
   ]
  },
  {
   "cell_type": "code",
   "execution_count": 123,
   "id": "463b924a",
   "metadata": {},
   "outputs": [
    {
     "data": {
      "text/plain": [
       "Index(['DS_COR_RACA_count'], dtype='object')"
      ]
     },
     "execution_count": 123,
     "metadata": {},
     "output_type": "execute_result"
    }
   ],
   "source": [
    "dt7.columns"
   ]
  },
  {
   "cell_type": "code",
   "execution_count": 125,
   "id": "e7eede7d",
   "metadata": {},
   "outputs": [
    {
     "data": {
      "text/html": [
       "<div>\n",
       "<style scoped>\n",
       "    .dataframe tbody tr th:only-of-type {\n",
       "        vertical-align: middle;\n",
       "    }\n",
       "\n",
       "    .dataframe tbody tr th {\n",
       "        vertical-align: top;\n",
       "    }\n",
       "\n",
       "    .dataframe thead th {\n",
       "        text-align: right;\n",
       "    }\n",
       "</style>\n",
       "<table border=\"1\" class=\"dataframe\">\n",
       "  <thead>\n",
       "    <tr style=\"text-align: right;\">\n",
       "      <th></th>\n",
       "      <th></th>\n",
       "      <th></th>\n",
       "      <th>count</th>\n",
       "    </tr>\n",
       "    <tr>\n",
       "      <th>SG_PARTIDO</th>\n",
       "      <th>DS_GENERO</th>\n",
       "      <th>DS_GRAU_INSTRUCAO</th>\n",
       "      <th></th>\n",
       "    </tr>\n",
       "  </thead>\n",
       "  <tbody>\n",
       "    <tr>\n",
       "      <th rowspan=\"5\" valign=\"top\">AVANTE</th>\n",
       "      <th rowspan=\"5\" valign=\"top\">FEMININO</th>\n",
       "      <th>ENSINO FUNDAMENTAL COMPLETO</th>\n",
       "      <td>21</td>\n",
       "    </tr>\n",
       "    <tr>\n",
       "      <th>ENSINO FUNDAMENTAL INCOMPLETO</th>\n",
       "      <td>21</td>\n",
       "    </tr>\n",
       "    <tr>\n",
       "      <th>ENSINO MÉDIO COMPLETO</th>\n",
       "      <td>119</td>\n",
       "    </tr>\n",
       "    <tr>\n",
       "      <th>ENSINO MÉDIO INCOMPLETO</th>\n",
       "      <td>16</td>\n",
       "    </tr>\n",
       "    <tr>\n",
       "      <th>LÊ E ESCREVE</th>\n",
       "      <td>6</td>\n",
       "    </tr>\n",
       "    <tr>\n",
       "      <th>...</th>\n",
       "      <th>...</th>\n",
       "      <th>...</th>\n",
       "      <td>...</td>\n",
       "    </tr>\n",
       "    <tr>\n",
       "      <th rowspan=\"5\" valign=\"top\">SOLIDARIEDADE</th>\n",
       "      <th rowspan=\"5\" valign=\"top\">MASCULINO</th>\n",
       "      <th>ENSINO MÉDIO COMPLETO</th>\n",
       "      <td>181</td>\n",
       "    </tr>\n",
       "    <tr>\n",
       "      <th>ENSINO MÉDIO INCOMPLETO</th>\n",
       "      <td>11</td>\n",
       "    </tr>\n",
       "    <tr>\n",
       "      <th>LÊ E ESCREVE</th>\n",
       "      <td>2</td>\n",
       "    </tr>\n",
       "    <tr>\n",
       "      <th>SUPERIOR COMPLETO</th>\n",
       "      <td>236</td>\n",
       "    </tr>\n",
       "    <tr>\n",
       "      <th>SUPERIOR INCOMPLETO</th>\n",
       "      <td>41</td>\n",
       "    </tr>\n",
       "  </tbody>\n",
       "</table>\n",
       "<p>473 rows × 1 columns</p>\n",
       "</div>"
      ],
      "text/plain": [
       "                                                       count\n",
       "SG_PARTIDO    DS_GENERO DS_GRAU_INSTRUCAO                   \n",
       "AVANTE        FEMININO  ENSINO FUNDAMENTAL COMPLETO       21\n",
       "                        ENSINO FUNDAMENTAL INCOMPLETO     21\n",
       "                        ENSINO MÉDIO COMPLETO            119\n",
       "                        ENSINO MÉDIO INCOMPLETO           16\n",
       "                        LÊ E ESCREVE                       6\n",
       "...                                                      ...\n",
       "SOLIDARIEDADE MASCULINO ENSINO MÉDIO COMPLETO            181\n",
       "                        ENSINO MÉDIO INCOMPLETO           11\n",
       "                        LÊ E ESCREVE                       2\n",
       "                        SUPERIOR COMPLETO                236\n",
       "                        SUPERIOR INCOMPLETO               41\n",
       "\n",
       "[473 rows x 1 columns]"
      ]
     },
     "execution_count": 125,
     "metadata": {},
     "output_type": "execute_result"
    }
   ],
   "source": [
    "dt7=dt7.rename(columns={'DS_COR_RACA_count':'count'})\n",
    "dt7"
   ]
  },
  {
   "cell_type": "code",
   "execution_count": 156,
   "id": "1925709c",
   "metadata": {},
   "outputs": [],
   "source": [
    "dt8=dataframe.groupby(['DS_GENERO', 'DS_GRAU_INSTRUCAO']).agg({'DS_COR_RACA':['count']}).reset_index()"
   ]
  },
  {
   "cell_type": "code",
   "execution_count": 157,
   "id": "7587c377",
   "metadata": {},
   "outputs": [],
   "source": [
    "dt8.columns=['_'.join(col) for col in dt8.columns.ravel()]"
   ]
  },
  {
   "cell_type": "code",
   "execution_count": 158,
   "id": "2789ddc4",
   "metadata": {},
   "outputs": [
    {
     "data": {
      "text/plain": [
       "Index(['DS_GENERO_', 'DS_GRAU_INSTRUCAO_', 'DS_COR_RACA_count'], dtype='object')"
      ]
     },
     "execution_count": 158,
     "metadata": {},
     "output_type": "execute_result"
    }
   ],
   "source": [
    "dt8.columns"
   ]
  },
  {
   "cell_type": "code",
   "execution_count": 223,
   "id": "a4435fd4",
   "metadata": {},
   "outputs": [
    {
     "data": {
      "text/html": [
       "<div>\n",
       "<style scoped>\n",
       "    .dataframe tbody tr th:only-of-type {\n",
       "        vertical-align: middle;\n",
       "    }\n",
       "\n",
       "    .dataframe tbody tr th {\n",
       "        vertical-align: top;\n",
       "    }\n",
       "\n",
       "    .dataframe thead th {\n",
       "        text-align: right;\n",
       "    }\n",
       "</style>\n",
       "<table border=\"1\" class=\"dataframe\">\n",
       "  <thead>\n",
       "    <tr style=\"text-align: right;\">\n",
       "      <th></th>\n",
       "      <th>genero</th>\n",
       "      <th>instrucao</th>\n",
       "      <th>count</th>\n",
       "    </tr>\n",
       "  </thead>\n",
       "  <tbody>\n",
       "    <tr>\n",
       "      <th>0</th>\n",
       "      <td>FEMININO</td>\n",
       "      <td>ENSINO FUNDAMENTAL COMPLETO</td>\n",
       "      <td>474</td>\n",
       "    </tr>\n",
       "    <tr>\n",
       "      <th>1</th>\n",
       "      <td>FEMININO</td>\n",
       "      <td>ENSINO FUNDAMENTAL INCOMPLETO</td>\n",
       "      <td>262</td>\n",
       "    </tr>\n",
       "    <tr>\n",
       "      <th>2</th>\n",
       "      <td>FEMININO</td>\n",
       "      <td>ENSINO MÉDIO COMPLETO</td>\n",
       "      <td>2947</td>\n",
       "    </tr>\n",
       "    <tr>\n",
       "      <th>3</th>\n",
       "      <td>FEMININO</td>\n",
       "      <td>ENSINO MÉDIO INCOMPLETO</td>\n",
       "      <td>295</td>\n",
       "    </tr>\n",
       "    <tr>\n",
       "      <th>4</th>\n",
       "      <td>FEMININO</td>\n",
       "      <td>LÊ E ESCREVE</td>\n",
       "      <td>119</td>\n",
       "    </tr>\n",
       "    <tr>\n",
       "      <th>5</th>\n",
       "      <td>FEMININO</td>\n",
       "      <td>SUPERIOR COMPLETO</td>\n",
       "      <td>4235</td>\n",
       "    </tr>\n",
       "    <tr>\n",
       "      <th>6</th>\n",
       "      <td>FEMININO</td>\n",
       "      <td>SUPERIOR INCOMPLETO</td>\n",
       "      <td>889</td>\n",
       "    </tr>\n",
       "    <tr>\n",
       "      <th>7</th>\n",
       "      <td>MASCULINO</td>\n",
       "      <td>ENSINO FUNDAMENTAL COMPLETO</td>\n",
       "      <td>1217</td>\n",
       "    </tr>\n",
       "    <tr>\n",
       "      <th>8</th>\n",
       "      <td>MASCULINO</td>\n",
       "      <td>ENSINO FUNDAMENTAL INCOMPLETO</td>\n",
       "      <td>658</td>\n",
       "    </tr>\n",
       "    <tr>\n",
       "      <th>9</th>\n",
       "      <td>MASCULINO</td>\n",
       "      <td>ENSINO MÉDIO COMPLETO</td>\n",
       "      <td>5608</td>\n",
       "    </tr>\n",
       "    <tr>\n",
       "      <th>10</th>\n",
       "      <td>MASCULINO</td>\n",
       "      <td>ENSINO MÉDIO INCOMPLETO</td>\n",
       "      <td>537</td>\n",
       "    </tr>\n",
       "    <tr>\n",
       "      <th>11</th>\n",
       "      <td>MASCULINO</td>\n",
       "      <td>LÊ E ESCREVE</td>\n",
       "      <td>174</td>\n",
       "    </tr>\n",
       "    <tr>\n",
       "      <th>12</th>\n",
       "      <td>MASCULINO</td>\n",
       "      <td>SUPERIOR COMPLETO</td>\n",
       "      <td>10019</td>\n",
       "    </tr>\n",
       "    <tr>\n",
       "      <th>13</th>\n",
       "      <td>MASCULINO</td>\n",
       "      <td>SUPERIOR INCOMPLETO</td>\n",
       "      <td>1744</td>\n",
       "    </tr>\n",
       "  </tbody>\n",
       "</table>\n",
       "</div>"
      ],
      "text/plain": [
       "       genero                      instrucao  count\n",
       "0    FEMININO    ENSINO FUNDAMENTAL COMPLETO    474\n",
       "1    FEMININO  ENSINO FUNDAMENTAL INCOMPLETO    262\n",
       "2    FEMININO          ENSINO MÉDIO COMPLETO   2947\n",
       "3    FEMININO        ENSINO MÉDIO INCOMPLETO    295\n",
       "4    FEMININO                   LÊ E ESCREVE    119\n",
       "5    FEMININO              SUPERIOR COMPLETO   4235\n",
       "6    FEMININO            SUPERIOR INCOMPLETO    889\n",
       "7   MASCULINO    ENSINO FUNDAMENTAL COMPLETO   1217\n",
       "8   MASCULINO  ENSINO FUNDAMENTAL INCOMPLETO    658\n",
       "9   MASCULINO          ENSINO MÉDIO COMPLETO   5608\n",
       "10  MASCULINO        ENSINO MÉDIO INCOMPLETO    537\n",
       "11  MASCULINO                   LÊ E ESCREVE    174\n",
       "12  MASCULINO              SUPERIOR COMPLETO  10019\n",
       "13  MASCULINO            SUPERIOR INCOMPLETO   1744"
      ]
     },
     "execution_count": 223,
     "metadata": {},
     "output_type": "execute_result"
    }
   ],
   "source": [
    "dt8=dt8.rename(columns={'DS_COR_RACA_count':'count',\n",
    "                       'DS_GENERO_':'genero',\n",
    "                       'DS_GRAU_INSTRUCAO_':'instrucao'})\n",
    "dt8"
   ]
  },
  {
   "cell_type": "code",
   "execution_count": 260,
   "id": "859bec6e",
   "metadata": {},
   "outputs": [
    {
     "data": {
      "text/html": [
       "<div>\n",
       "<style scoped>\n",
       "    .dataframe tbody tr th:only-of-type {\n",
       "        vertical-align: middle;\n",
       "    }\n",
       "\n",
       "    .dataframe tbody tr th {\n",
       "        vertical-align: top;\n",
       "    }\n",
       "\n",
       "    .dataframe thead th {\n",
       "        text-align: right;\n",
       "    }\n",
       "</style>\n",
       "<table border=\"1\" class=\"dataframe\">\n",
       "  <thead>\n",
       "    <tr style=\"text-align: right;\">\n",
       "      <th></th>\n",
       "      <th>genero</th>\n",
       "      <th>instrucao</th>\n",
       "      <th>count</th>\n",
       "    </tr>\n",
       "  </thead>\n",
       "  <tbody>\n",
       "    <tr>\n",
       "      <th>0</th>\n",
       "      <td>FEMININO</td>\n",
       "      <td>ENSINO FUNDAMENTAL COMPLETO</td>\n",
       "      <td>474</td>\n",
       "    </tr>\n",
       "    <tr>\n",
       "      <th>1</th>\n",
       "      <td>FEMININO</td>\n",
       "      <td>ENSINO FUNDAMENTAL INCOMPLETO</td>\n",
       "      <td>262</td>\n",
       "    </tr>\n",
       "    <tr>\n",
       "      <th>2</th>\n",
       "      <td>FEMININO</td>\n",
       "      <td>ENSINO MÉDIO COMPLETO</td>\n",
       "      <td>2947</td>\n",
       "    </tr>\n",
       "    <tr>\n",
       "      <th>3</th>\n",
       "      <td>FEMININO</td>\n",
       "      <td>ENSINO MÉDIO INCOMPLETO</td>\n",
       "      <td>295</td>\n",
       "    </tr>\n",
       "    <tr>\n",
       "      <th>4</th>\n",
       "      <td>FEMININO</td>\n",
       "      <td>LÊ E ESCREVE</td>\n",
       "      <td>119</td>\n",
       "    </tr>\n",
       "    <tr>\n",
       "      <th>5</th>\n",
       "      <td>FEMININO</td>\n",
       "      <td>SUPERIOR COMPLETO</td>\n",
       "      <td>4235</td>\n",
       "    </tr>\n",
       "    <tr>\n",
       "      <th>6</th>\n",
       "      <td>FEMININO</td>\n",
       "      <td>SUPERIOR INCOMPLETO</td>\n",
       "      <td>889</td>\n",
       "    </tr>\n",
       "  </tbody>\n",
       "</table>\n",
       "</div>"
      ],
      "text/plain": [
       "     genero                      instrucao  count\n",
       "0  FEMININO    ENSINO FUNDAMENTAL COMPLETO    474\n",
       "1  FEMININO  ENSINO FUNDAMENTAL INCOMPLETO    262\n",
       "2  FEMININO          ENSINO MÉDIO COMPLETO   2947\n",
       "3  FEMININO        ENSINO MÉDIO INCOMPLETO    295\n",
       "4  FEMININO                   LÊ E ESCREVE    119\n",
       "5  FEMININO              SUPERIOR COMPLETO   4235\n",
       "6  FEMININO            SUPERIOR INCOMPLETO    889"
      ]
     },
     "execution_count": 260,
     "metadata": {},
     "output_type": "execute_result"
    }
   ],
   "source": [
    "dt8_W=dt8.loc[dt8['genero']=='FEMININO']\n",
    "dt8_W"
   ]
  },
  {
   "cell_type": "code",
   "execution_count": 257,
   "id": "1ea0469b",
   "metadata": {},
   "outputs": [],
   "source": [
    "dt8_M=dt8.loc[dt8['genero']=='MASCULINO']"
   ]
  },
  {
   "cell_type": "code",
   "execution_count": 265,
   "id": "67f057eb",
   "metadata": {},
   "outputs": [
    {
     "data": {
      "image/png": "[encoded data removed]",
      "text/plain": [
       "<Figure size 432x288 with 1 Axes>"
      ]
     },
     "metadata": {},
     "output_type": "display_data"
    }
   ],
   "source": [
    "mylabels = [\"ENSINO FUNDAMENTAL COMPLETO\", \"ENSINO FUNDAMENTAL INCOMPLETO\",\n",
    "            \"ENSINO MÉDIO COMPLETO\", \"ENSINO MÉDIO INCOMPLETO\",\"LÊ E ESCREVE\",\n",
    "           \"SUPERIOR COMPLETO\", \"SUPERIOR INCOMPLETO\"]\n",
    "plt.pie(dt8_W['count'],  labels = mylabels, autopct='%1.0f%%')\n",
    "plt.title('Woman education')\n",
    "plt.show()"
   ]
  },
  {
   "cell_type": "code",
   "execution_count": 266,
   "id": "4e736375",
   "metadata": {},
   "outputs": [
    {
     "data": {
      "image/png": "[encoded data removed]",
      "text/plain": [
       "<Figure size 432x288 with 1 Axes>"
      ]
     },
     "metadata": {},
     "output_type": "display_data"
    }
   ],
   "source": [
    "mylabels = [\"ENSINO FUNDAMENTAL COMPLETO\", \"ENSINO FUNDAMENTAL INCOMPLETO\",\n",
    "            \"ENSINO MÉDIO COMPLETO\", \"ENSINO MÉDIO INCOMPLETO\",\"LÊ E ESCREVE\",\n",
    "           \"SUPERIOR COMPLETO\", \"SUPERIOR INCOMPLETO\"]\n",
    "plt.pie(dt8_M['count'],  labels = mylabels, autopct='%1.0f%%')\n",
    "plt.title('Man education')\n",
    "plt.show()"
   ]
  },
  {
   "cell_type": "markdown",
   "id": "433dc4e1",
   "metadata": {},
   "source": [
    "# De acordo com a analise, mesmo possuindo um terco do plenario, as mulheres possuem uma equivalencia na questao da escolariedade. \n",
    "# Apenas temos uma variacao consideravel quando se trata em ensino superior e medio, as mulheres possuem 4% a menos no quesito conhecimento mais especializado(superior), migrando essa diferenca para o ensino medio completo."
   ]
  },
  {
   "cell_type": "code",
   "execution_count": null,
   "id": "bfdc90d8",
   "metadata": {},
   "outputs": [],
   "source": []
  }
 ],
 "metadata": {
  "kernelspec": {
   "display_name": "Python 3",
   "language": "python",
   "name": "python3"
  },
  "language_info": {
   "codemirror_mode": {
    "name": "ipython",
    "version": 3
   },
   "file_extension": ".py",
   "mimetype": "text/x-python",
   "name": "python",
   "nbconvert_exporter": "python",
   "pygments_lexer": "ipython3",
   "version": "3.8.8"
  }
 },
 "nbformat": 4,
 "nbformat_minor": 5
}
