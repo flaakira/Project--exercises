{
 "cells": [
  {
   "cell_type": "code",
   "execution_count": 53,
   "id": "808a552b",
   "metadata": {},
   "outputs": [],
   "source": [
    "import pandas as pd\n",
    "import numpy as np\n",
    "import matplotlib.pyplot as plt\n",
    "import seaborn as sns"
   ]
  },
  {
   "cell_type": "code",
   "execution_count": 54,
   "id": "ef36a18f",
   "metadata": {},
   "outputs": [
    {
     "name": "stderr",
     "output_type": "stream",
     "text": [
      "C:\\Users\\foliveira\\Anaconda3\\lib\\site-packages\\IPython\\core\\interactiveshell.py:3165: DtypeWarning: Columns (20) have mixed types.Specify dtype option on import or set low_memory=False.\n",
      "  has_raised = await self.run_ast_nodes(code_ast.body, cell_name,\n"
     ]
    }
   ],
   "source": [
    "#latin-1 \n",
    "dataframe = pd.read_csv('consulta_cand_2018_BRASIL.csv', delimiter=';', encoding='latin-1')"
   ]
  },
  {
   "cell_type": "code",
   "execution_count": 55,
   "id": "f979a33b",
   "metadata": {},
   "outputs": [
    {
     "data": {
      "text/html": [
       "<div>\n",
       "<style scoped>\n",
       "    .dataframe tbody tr th:only-of-type {\n",
       "        vertical-align: middle;\n",
       "    }\n",
       "\n",
       "    .dataframe tbody tr th {\n",
       "        vertical-align: top;\n",
       "    }\n",
       "\n",
       "    .dataframe thead th {\n",
       "        text-align: right;\n",
       "    }\n",
       "</style>\n",
       "<table border=\"1\" class=\"dataframe\">\n",
       "  <thead>\n",
       "    <tr style=\"text-align: right;\">\n",
       "      <th></th>\n",
       "      <th>DT_GERACAO</th>\n",
       "      <th>HH_GERACAO</th>\n",
       "      <th>ANO_ELEICAO</th>\n",
       "      <th>CD_TIPO_ELEICAO</th>\n",
       "      <th>NM_TIPO_ELEICAO</th>\n",
       "      <th>NR_TURNO</th>\n",
       "      <th>CD_ELEICAO</th>\n",
       "      <th>DS_ELEICAO</th>\n",
       "      <th>DT_ELEICAO</th>\n",
       "      <th>TP_ABRANGENCIA</th>\n",
       "      <th>...</th>\n",
       "      <th>DS_SIT_TOT_TURNO</th>\n",
       "      <th>ST_REELEICAO</th>\n",
       "      <th>ST_DECLARAR_BENS</th>\n",
       "      <th>NR_PROTOCOLO_CANDIDATURA</th>\n",
       "      <th>NR_PROCESSO</th>\n",
       "      <th>CD_SITUACAO_CANDIDATO_PLEITO</th>\n",
       "      <th>DS_SITUACAO_CANDIDATO_PLEITO</th>\n",
       "      <th>CD_SITUACAO_CANDIDATO_URNA</th>\n",
       "      <th>DS_SITUACAO_CANDIDATO_URNA</th>\n",
       "      <th>ST_CANDIDATO_INSERIDO_URNA</th>\n",
       "    </tr>\n",
       "  </thead>\n",
       "  <tbody>\n",
       "    <tr>\n",
       "      <th>0</th>\n",
       "      <td>08/08/2021</td>\n",
       "      <td>11:00:47</td>\n",
       "      <td>2018</td>\n",
       "      <td>2</td>\n",
       "      <td>ELEIÇÃO ORDINÁRIA</td>\n",
       "      <td>1</td>\n",
       "      <td>297</td>\n",
       "      <td>Eleições Gerais Estaduais 2018</td>\n",
       "      <td>07/10/2018</td>\n",
       "      <td>ESTADUAL</td>\n",
       "      <td>...</td>\n",
       "      <td>NÃO ELEITO</td>\n",
       "      <td>N</td>\n",
       "      <td>N</td>\n",
       "      <td>-1</td>\n",
       "      <td>6014988120186060000</td>\n",
       "      <td>6</td>\n",
       "      <td>RENÚNCIA</td>\n",
       "      <td>4</td>\n",
       "      <td>INDEFERIDO COM RECURSO</td>\n",
       "      <td>SIM</td>\n",
       "    </tr>\n",
       "    <tr>\n",
       "      <th>1</th>\n",
       "      <td>08/08/2021</td>\n",
       "      <td>11:00:47</td>\n",
       "      <td>2018</td>\n",
       "      <td>2</td>\n",
       "      <td>ELEIÇÃO ORDINÁRIA</td>\n",
       "      <td>1</td>\n",
       "      <td>297</td>\n",
       "      <td>Eleições Gerais Estaduais 2018</td>\n",
       "      <td>07/10/2018</td>\n",
       "      <td>ESTADUAL</td>\n",
       "      <td>...</td>\n",
       "      <td>NÃO ELEITO</td>\n",
       "      <td>N</td>\n",
       "      <td>N</td>\n",
       "      <td>-1</td>\n",
       "      <td>6043424120186190000</td>\n",
       "      <td>4</td>\n",
       "      <td>INDEFERIDO COM RECURSO</td>\n",
       "      <td>4</td>\n",
       "      <td>INDEFERIDO COM RECURSO</td>\n",
       "      <td>SIM</td>\n",
       "    </tr>\n",
       "    <tr>\n",
       "      <th>2</th>\n",
       "      <td>08/08/2021</td>\n",
       "      <td>11:00:47</td>\n",
       "      <td>2018</td>\n",
       "      <td>2</td>\n",
       "      <td>ELEIÇÃO ORDINÁRIA</td>\n",
       "      <td>1</td>\n",
       "      <td>297</td>\n",
       "      <td>Eleições Gerais Estaduais 2018</td>\n",
       "      <td>07/10/2018</td>\n",
       "      <td>ESTADUAL</td>\n",
       "      <td>...</td>\n",
       "      <td>#NULO#</td>\n",
       "      <td>N</td>\n",
       "      <td>N</td>\n",
       "      <td>-1</td>\n",
       "      <td>6044195520186260000</td>\n",
       "      <td>-1</td>\n",
       "      <td>#NULO#</td>\n",
       "      <td>-1</td>\n",
       "      <td>#NULO#</td>\n",
       "      <td>NÃO</td>\n",
       "    </tr>\n",
       "    <tr>\n",
       "      <th>3</th>\n",
       "      <td>08/08/2021</td>\n",
       "      <td>11:00:47</td>\n",
       "      <td>2018</td>\n",
       "      <td>2</td>\n",
       "      <td>ELEIÇÃO ORDINÁRIA</td>\n",
       "      <td>1</td>\n",
       "      <td>297</td>\n",
       "      <td>Eleições Gerais Estaduais 2018</td>\n",
       "      <td>07/10/2018</td>\n",
       "      <td>ESTADUAL</td>\n",
       "      <td>...</td>\n",
       "      <td>SUPLENTE</td>\n",
       "      <td>N</td>\n",
       "      <td>S</td>\n",
       "      <td>-1</td>\n",
       "      <td>6002207120186230000</td>\n",
       "      <td>2</td>\n",
       "      <td>DEFERIDO</td>\n",
       "      <td>2</td>\n",
       "      <td>DEFERIDO</td>\n",
       "      <td>SIM</td>\n",
       "    </tr>\n",
       "    <tr>\n",
       "      <th>4</th>\n",
       "      <td>08/08/2021</td>\n",
       "      <td>11:00:47</td>\n",
       "      <td>2018</td>\n",
       "      <td>2</td>\n",
       "      <td>ELEIÇÃO ORDINÁRIA</td>\n",
       "      <td>1</td>\n",
       "      <td>297</td>\n",
       "      <td>Eleições Gerais Estaduais 2018</td>\n",
       "      <td>07/10/2018</td>\n",
       "      <td>ESTADUAL</td>\n",
       "      <td>...</td>\n",
       "      <td>SUPLENTE</td>\n",
       "      <td>N</td>\n",
       "      <td>N</td>\n",
       "      <td>-1</td>\n",
       "      <td>6014393820186260000</td>\n",
       "      <td>2</td>\n",
       "      <td>DEFERIDO</td>\n",
       "      <td>2</td>\n",
       "      <td>DEFERIDO</td>\n",
       "      <td>SIM</td>\n",
       "    </tr>\n",
       "  </tbody>\n",
       "</table>\n",
       "<p>5 rows × 63 columns</p>\n",
       "</div>"
      ],
      "text/plain": [
       "   DT_GERACAO HH_GERACAO  ANO_ELEICAO  CD_TIPO_ELEICAO    NM_TIPO_ELEICAO  \\\n",
       "0  08/08/2021   11:00:47         2018                2  ELEIÇÃO ORDINÁRIA   \n",
       "1  08/08/2021   11:00:47         2018                2  ELEIÇÃO ORDINÁRIA   \n",
       "2  08/08/2021   11:00:47         2018                2  ELEIÇÃO ORDINÁRIA   \n",
       "3  08/08/2021   11:00:47         2018                2  ELEIÇÃO ORDINÁRIA   \n",
       "4  08/08/2021   11:00:47         2018                2  ELEIÇÃO ORDINÁRIA   \n",
       "\n",
       "   NR_TURNO  CD_ELEICAO                      DS_ELEICAO  DT_ELEICAO  \\\n",
       "0         1         297  Eleições Gerais Estaduais 2018  07/10/2018   \n",
       "1         1         297  Eleições Gerais Estaduais 2018  07/10/2018   \n",
       "2         1         297  Eleições Gerais Estaduais 2018  07/10/2018   \n",
       "3         1         297  Eleições Gerais Estaduais 2018  07/10/2018   \n",
       "4         1         297  Eleições Gerais Estaduais 2018  07/10/2018   \n",
       "\n",
       "  TP_ABRANGENCIA  ... DS_SIT_TOT_TURNO ST_REELEICAO ST_DECLARAR_BENS  \\\n",
       "0       ESTADUAL  ...       NÃO ELEITO            N                N   \n",
       "1       ESTADUAL  ...       NÃO ELEITO            N                N   \n",
       "2       ESTADUAL  ...           #NULO#            N                N   \n",
       "3       ESTADUAL  ...         SUPLENTE            N                S   \n",
       "4       ESTADUAL  ...         SUPLENTE            N                N   \n",
       "\n",
       "   NR_PROTOCOLO_CANDIDATURA          NR_PROCESSO  \\\n",
       "0                        -1  6014988120186060000   \n",
       "1                        -1  6043424120186190000   \n",
       "2                        -1  6044195520186260000   \n",
       "3                        -1  6002207120186230000   \n",
       "4                        -1  6014393820186260000   \n",
       "\n",
       "   CD_SITUACAO_CANDIDATO_PLEITO  DS_SITUACAO_CANDIDATO_PLEITO  \\\n",
       "0                             6                      RENÚNCIA   \n",
       "1                             4        INDEFERIDO COM RECURSO   \n",
       "2                            -1                        #NULO#   \n",
       "3                             2                      DEFERIDO   \n",
       "4                             2                      DEFERIDO   \n",
       "\n",
       "  CD_SITUACAO_CANDIDATO_URNA DS_SITUACAO_CANDIDATO_URNA  \\\n",
       "0                          4     INDEFERIDO COM RECURSO   \n",
       "1                          4     INDEFERIDO COM RECURSO   \n",
       "2                         -1                     #NULO#   \n",
       "3                          2                   DEFERIDO   \n",
       "4                          2                   DEFERIDO   \n",
       "\n",
       "  ST_CANDIDATO_INSERIDO_URNA  \n",
       "0                        SIM  \n",
       "1                        SIM  \n",
       "2                        NÃO  \n",
       "3                        SIM  \n",
       "4                        SIM  \n",
       "\n",
       "[5 rows x 63 columns]"
      ]
     },
     "execution_count": 55,
     "metadata": {},
     "output_type": "execute_result"
    }
   ],
   "source": [
    "dataframe.head()"
   ]
  },
  {
   "cell_type": "code",
   "execution_count": 56,
   "id": "1b24ce44",
   "metadata": {},
   "outputs": [
    {
     "data": {
      "text/html": [
       "<div>\n",
       "<style scoped>\n",
       "    .dataframe tbody tr th:only-of-type {\n",
       "        vertical-align: middle;\n",
       "    }\n",
       "\n",
       "    .dataframe tbody tr th {\n",
       "        vertical-align: top;\n",
       "    }\n",
       "\n",
       "    .dataframe thead th {\n",
       "        text-align: right;\n",
       "    }\n",
       "</style>\n",
       "<table border=\"1\" class=\"dataframe\">\n",
       "  <thead>\n",
       "    <tr style=\"text-align: right;\">\n",
       "      <th></th>\n",
       "      <th>DT_GERACAO</th>\n",
       "      <th>HH_GERACAO</th>\n",
       "      <th>ANO_ELEICAO</th>\n",
       "      <th>CD_TIPO_ELEICAO</th>\n",
       "      <th>NM_TIPO_ELEICAO</th>\n",
       "      <th>NR_TURNO</th>\n",
       "      <th>CD_ELEICAO</th>\n",
       "      <th>DS_ELEICAO</th>\n",
       "      <th>DT_ELEICAO</th>\n",
       "      <th>TP_ABRANGENCIA</th>\n",
       "      <th>...</th>\n",
       "      <th>DS_SIT_TOT_TURNO</th>\n",
       "      <th>ST_REELEICAO</th>\n",
       "      <th>ST_DECLARAR_BENS</th>\n",
       "      <th>NR_PROTOCOLO_CANDIDATURA</th>\n",
       "      <th>NR_PROCESSO</th>\n",
       "      <th>CD_SITUACAO_CANDIDATO_PLEITO</th>\n",
       "      <th>DS_SITUACAO_CANDIDATO_PLEITO</th>\n",
       "      <th>CD_SITUACAO_CANDIDATO_URNA</th>\n",
       "      <th>DS_SITUACAO_CANDIDATO_URNA</th>\n",
       "      <th>ST_CANDIDATO_INSERIDO_URNA</th>\n",
       "    </tr>\n",
       "  </thead>\n",
       "  <tbody>\n",
       "    <tr>\n",
       "      <th>29175</th>\n",
       "      <td>08/08/2021</td>\n",
       "      <td>11:00:47</td>\n",
       "      <td>2018</td>\n",
       "      <td>2</td>\n",
       "      <td>ELEIÇÃO ORDINÁRIA</td>\n",
       "      <td>1</td>\n",
       "      <td>297</td>\n",
       "      <td>Eleições Gerais Estaduais 2018</td>\n",
       "      <td>07/10/2018</td>\n",
       "      <td>ESTADUAL</td>\n",
       "      <td>...</td>\n",
       "      <td>SUPLENTE</td>\n",
       "      <td>N</td>\n",
       "      <td>N</td>\n",
       "      <td>-1</td>\n",
       "      <td>6007182220186140000</td>\n",
       "      <td>2</td>\n",
       "      <td>DEFERIDO</td>\n",
       "      <td>2</td>\n",
       "      <td>DEFERIDO</td>\n",
       "      <td>SIM</td>\n",
       "    </tr>\n",
       "    <tr>\n",
       "      <th>29176</th>\n",
       "      <td>08/08/2021</td>\n",
       "      <td>11:00:47</td>\n",
       "      <td>2018</td>\n",
       "      <td>2</td>\n",
       "      <td>ELEIÇÃO ORDINÁRIA</td>\n",
       "      <td>1</td>\n",
       "      <td>297</td>\n",
       "      <td>Eleições Gerais Estaduais 2018</td>\n",
       "      <td>07/10/2018</td>\n",
       "      <td>ESTADUAL</td>\n",
       "      <td>...</td>\n",
       "      <td>SUPLENTE</td>\n",
       "      <td>N</td>\n",
       "      <td>S</td>\n",
       "      <td>-1</td>\n",
       "      <td>6007439420186190000</td>\n",
       "      <td>2</td>\n",
       "      <td>DEFERIDO</td>\n",
       "      <td>2</td>\n",
       "      <td>DEFERIDO</td>\n",
       "      <td>SIM</td>\n",
       "    </tr>\n",
       "    <tr>\n",
       "      <th>29177</th>\n",
       "      <td>08/08/2021</td>\n",
       "      <td>11:00:47</td>\n",
       "      <td>2018</td>\n",
       "      <td>2</td>\n",
       "      <td>ELEIÇÃO ORDINÁRIA</td>\n",
       "      <td>1</td>\n",
       "      <td>297</td>\n",
       "      <td>Eleições Gerais Estaduais 2018</td>\n",
       "      <td>07/10/2018</td>\n",
       "      <td>ESTADUAL</td>\n",
       "      <td>...</td>\n",
       "      <td>NÃO ELEITO</td>\n",
       "      <td>N</td>\n",
       "      <td>S</td>\n",
       "      <td>-1</td>\n",
       "      <td>6001802020186040000</td>\n",
       "      <td>2</td>\n",
       "      <td>DEFERIDO</td>\n",
       "      <td>2</td>\n",
       "      <td>DEFERIDO</td>\n",
       "      <td>SIM</td>\n",
       "    </tr>\n",
       "    <tr>\n",
       "      <th>29178</th>\n",
       "      <td>08/08/2021</td>\n",
       "      <td>11:00:47</td>\n",
       "      <td>2018</td>\n",
       "      <td>2</td>\n",
       "      <td>ELEIÇÃO ORDINÁRIA</td>\n",
       "      <td>1</td>\n",
       "      <td>297</td>\n",
       "      <td>Eleições Gerais Estaduais 2018</td>\n",
       "      <td>07/10/2018</td>\n",
       "      <td>ESTADUAL</td>\n",
       "      <td>...</td>\n",
       "      <td>NÃO ELEITO</td>\n",
       "      <td>N</td>\n",
       "      <td>N</td>\n",
       "      <td>-1</td>\n",
       "      <td>6001940420186040000</td>\n",
       "      <td>2</td>\n",
       "      <td>DEFERIDO</td>\n",
       "      <td>2</td>\n",
       "      <td>DEFERIDO</td>\n",
       "      <td>SIM</td>\n",
       "    </tr>\n",
       "    <tr>\n",
       "      <th>29179</th>\n",
       "      <td>08/08/2021</td>\n",
       "      <td>11:00:47</td>\n",
       "      <td>2018</td>\n",
       "      <td>2</td>\n",
       "      <td>ELEIÇÃO ORDINÁRIA</td>\n",
       "      <td>1</td>\n",
       "      <td>297</td>\n",
       "      <td>Eleições Gerais Estaduais 2018</td>\n",
       "      <td>07/10/2018</td>\n",
       "      <td>ESTADUAL</td>\n",
       "      <td>...</td>\n",
       "      <td>ELEITO POR QP</td>\n",
       "      <td>S</td>\n",
       "      <td>S</td>\n",
       "      <td>-1</td>\n",
       "      <td>6016522320186160000</td>\n",
       "      <td>2</td>\n",
       "      <td>DEFERIDO</td>\n",
       "      <td>2</td>\n",
       "      <td>DEFERIDO</td>\n",
       "      <td>SIM</td>\n",
       "    </tr>\n",
       "  </tbody>\n",
       "</table>\n",
       "<p>5 rows × 63 columns</p>\n",
       "</div>"
      ],
      "text/plain": [
       "       DT_GERACAO HH_GERACAO  ANO_ELEICAO  CD_TIPO_ELEICAO    NM_TIPO_ELEICAO  \\\n",
       "29175  08/08/2021   11:00:47         2018                2  ELEIÇÃO ORDINÁRIA   \n",
       "29176  08/08/2021   11:00:47         2018                2  ELEIÇÃO ORDINÁRIA   \n",
       "29177  08/08/2021   11:00:47         2018                2  ELEIÇÃO ORDINÁRIA   \n",
       "29178  08/08/2021   11:00:47         2018                2  ELEIÇÃO ORDINÁRIA   \n",
       "29179  08/08/2021   11:00:47         2018                2  ELEIÇÃO ORDINÁRIA   \n",
       "\n",
       "       NR_TURNO  CD_ELEICAO                      DS_ELEICAO  DT_ELEICAO  \\\n",
       "29175         1         297  Eleições Gerais Estaduais 2018  07/10/2018   \n",
       "29176         1         297  Eleições Gerais Estaduais 2018  07/10/2018   \n",
       "29177         1         297  Eleições Gerais Estaduais 2018  07/10/2018   \n",
       "29178         1         297  Eleições Gerais Estaduais 2018  07/10/2018   \n",
       "29179         1         297  Eleições Gerais Estaduais 2018  07/10/2018   \n",
       "\n",
       "      TP_ABRANGENCIA  ... DS_SIT_TOT_TURNO ST_REELEICAO ST_DECLARAR_BENS  \\\n",
       "29175       ESTADUAL  ...         SUPLENTE            N                N   \n",
       "29176       ESTADUAL  ...         SUPLENTE            N                S   \n",
       "29177       ESTADUAL  ...       NÃO ELEITO            N                S   \n",
       "29178       ESTADUAL  ...       NÃO ELEITO            N                N   \n",
       "29179       ESTADUAL  ...    ELEITO POR QP            S                S   \n",
       "\n",
       "       NR_PROTOCOLO_CANDIDATURA          NR_PROCESSO  \\\n",
       "29175                        -1  6007182220186140000   \n",
       "29176                        -1  6007439420186190000   \n",
       "29177                        -1  6001802020186040000   \n",
       "29178                        -1  6001940420186040000   \n",
       "29179                        -1  6016522320186160000   \n",
       "\n",
       "       CD_SITUACAO_CANDIDATO_PLEITO  DS_SITUACAO_CANDIDATO_PLEITO  \\\n",
       "29175                             2                      DEFERIDO   \n",
       "29176                             2                      DEFERIDO   \n",
       "29177                             2                      DEFERIDO   \n",
       "29178                             2                      DEFERIDO   \n",
       "29179                             2                      DEFERIDO   \n",
       "\n",
       "      CD_SITUACAO_CANDIDATO_URNA DS_SITUACAO_CANDIDATO_URNA  \\\n",
       "29175                          2                   DEFERIDO   \n",
       "29176                          2                   DEFERIDO   \n",
       "29177                          2                   DEFERIDO   \n",
       "29178                          2                   DEFERIDO   \n",
       "29179                          2                   DEFERIDO   \n",
       "\n",
       "      ST_CANDIDATO_INSERIDO_URNA  \n",
       "29175                        SIM  \n",
       "29176                        SIM  \n",
       "29177                        SIM  \n",
       "29178                        SIM  \n",
       "29179                        SIM  \n",
       "\n",
       "[5 rows x 63 columns]"
      ]
     },
     "execution_count": 56,
     "metadata": {},
     "output_type": "execute_result"
    }
   ],
   "source": [
    "dataframe.tail()"
   ]
  },
  {
   "cell_type": "code",
   "execution_count": 57,
   "id": "768bd437",
   "metadata": {},
   "outputs": [
    {
     "name": "stdout",
     "output_type": "stream",
     "text": [
      "<class 'pandas.core.frame.DataFrame'>\n",
      "RangeIndex: 29180 entries, 0 to 29179\n",
      "Data columns (total 63 columns):\n",
      " #   Column                         Non-Null Count  Dtype  \n",
      "---  ------                         --------------  -----  \n",
      " 0   DT_GERACAO                     29180 non-null  object \n",
      " 1   HH_GERACAO                     29180 non-null  object \n",
      " 2   ANO_ELEICAO                    29180 non-null  int64  \n",
      " 3   CD_TIPO_ELEICAO                29180 non-null  int64  \n",
      " 4   NM_TIPO_ELEICAO                29180 non-null  object \n",
      " 5   NR_TURNO                       29180 non-null  int64  \n",
      " 6   CD_ELEICAO                     29180 non-null  int64  \n",
      " 7   DS_ELEICAO                     29180 non-null  object \n",
      " 8   DT_ELEICAO                     29180 non-null  object \n",
      " 9   TP_ABRANGENCIA                 29180 non-null  object \n",
      " 10  SG_UF                          29180 non-null  object \n",
      " 11  SG_UE                          29180 non-null  object \n",
      " 12  NM_UE                          29180 non-null  object \n",
      " 13  CD_CARGO                       29180 non-null  int64  \n",
      " 14  DS_CARGO                       29180 non-null  object \n",
      " 15  SQ_CANDIDATO                   29180 non-null  int64  \n",
      " 16  NR_CANDIDATO                   29180 non-null  int64  \n",
      " 17  NM_CANDIDATO                   29180 non-null  object \n",
      " 18  NM_URNA_CANDIDATO              29180 non-null  object \n",
      " 19  NM_SOCIAL_CANDIDATO            29180 non-null  object \n",
      " 20  NR_CPF_CANDIDATO               29180 non-null  object \n",
      " 21  NM_EMAIL                       29180 non-null  object \n",
      " 22  CD_SITUACAO_CANDIDATURA        29180 non-null  int64  \n",
      " 23  DS_SITUACAO_CANDIDATURA        29180 non-null  object \n",
      " 24  CD_DETALHE_SITUACAO_CAND       29180 non-null  int64  \n",
      " 25  DS_DETALHE_SITUACAO_CAND       29180 non-null  object \n",
      " 26  TP_AGREMIACAO                  29180 non-null  object \n",
      " 27  NR_PARTIDO                     29180 non-null  int64  \n",
      " 28  SG_PARTIDO                     29180 non-null  object \n",
      " 29  NM_PARTIDO                     29180 non-null  object \n",
      " 30  SQ_COLIGACAO                   29180 non-null  int64  \n",
      " 31  NM_COLIGACAO                   29180 non-null  object \n",
      " 32  DS_COMPOSICAO_COLIGACAO        29180 non-null  object \n",
      " 33  CD_NACIONALIDADE               29180 non-null  int64  \n",
      " 34  DS_NACIONALIDADE               29180 non-null  object \n",
      " 35  SG_UF_NASCIMENTO               29180 non-null  object \n",
      " 36  CD_MUNICIPIO_NASCIMENTO        29180 non-null  int64  \n",
      " 37  NM_MUNICIPIO_NASCIMENTO        29180 non-null  object \n",
      " 38  DT_NASCIMENTO                  29179 non-null  object \n",
      " 39  NR_IDADE_DATA_POSSE            29179 non-null  float64\n",
      " 40  NR_TITULO_ELEITORAL_CANDIDATO  29180 non-null  int64  \n",
      " 41  CD_GENERO                      29180 non-null  int64  \n",
      " 42  DS_GENERO                      29180 non-null  object \n",
      " 43  CD_GRAU_INSTRUCAO              29180 non-null  int64  \n",
      " 44  DS_GRAU_INSTRUCAO              29180 non-null  object \n",
      " 45  CD_ESTADO_CIVIL                29180 non-null  int64  \n",
      " 46  DS_ESTADO_CIVIL                29180 non-null  object \n",
      " 47  CD_COR_RACA                    29180 non-null  int64  \n",
      " 48  DS_COR_RACA                    29180 non-null  object \n",
      " 49  CD_OCUPACAO                    29180 non-null  int64  \n",
      " 50  DS_OCUPACAO                    29180 non-null  object \n",
      " 51  VR_DESPESA_MAX_CAMPANHA        29180 non-null  int64  \n",
      " 52  CD_SIT_TOT_TURNO               29180 non-null  int64  \n",
      " 53  DS_SIT_TOT_TURNO               29180 non-null  object \n",
      " 54  ST_REELEICAO                   29180 non-null  object \n",
      " 55  ST_DECLARAR_BENS               29180 non-null  object \n",
      " 56  NR_PROTOCOLO_CANDIDATURA       29180 non-null  int64  \n",
      " 57  NR_PROCESSO                    29180 non-null  int64  \n",
      " 58  CD_SITUACAO_CANDIDATO_PLEITO   29180 non-null  int64  \n",
      " 59  DS_SITUACAO_CANDIDATO_PLEITO   29180 non-null  object \n",
      " 60  CD_SITUACAO_CANDIDATO_URNA     29180 non-null  int64  \n",
      " 61  DS_SITUACAO_CANDIDATO_URNA     29180 non-null  object \n",
      " 62  ST_CANDIDATO_INSERIDO_URNA     29180 non-null  object \n",
      "dtypes: float64(1), int64(25), object(37)\n",
      "memory usage: 14.0+ MB\n"
     ]
    }
   ],
   "source": [
    "dataframe.info()"
   ]
  },
  {
   "cell_type": "markdown",
   "id": "7a3d87b0",
   "metadata": {},
   "source": [
    "### Outliers"
   ]
  },
  {
   "cell_type": "code",
   "execution_count": 58,
   "id": "123157c5",
   "metadata": {},
   "outputs": [
    {
     "data": {
      "text/plain": [
       "0        40.0\n",
       "1        54.0\n",
       "2        46.0\n",
       "3        79.0\n",
       "4        29.0\n",
       "         ... \n",
       "29175    68.0\n",
       "29176    52.0\n",
       "29177    52.0\n",
       "29178    28.0\n",
       "29179    61.0\n",
       "Name: NR_IDADE_DATA_POSSE, Length: 29180, dtype: float64"
      ]
     },
     "execution_count": 58,
     "metadata": {},
     "output_type": "execute_result"
    }
   ],
   "source": [
    "dataframe['NR_IDADE_DATA_POSSE']"
   ]
  },
  {
   "cell_type": "code",
   "execution_count": 59,
   "id": "c0b4b9e8",
   "metadata": {},
   "outputs": [
    {
     "name": "stdout",
     "output_type": "stream",
     "text": [
      "807.0\n"
     ]
    }
   ],
   "source": [
    "print(dataframe['NR_IDADE_DATA_POSSE'].max() - dataframe['NR_IDADE_DATA_POSSE'].min())"
   ]
  },
  {
   "cell_type": "code",
   "execution_count": 60,
   "id": "71bd65fd",
   "metadata": {},
   "outputs": [
    {
     "name": "stdout",
     "output_type": "stream",
     "text": [
      "825.0\n"
     ]
    }
   ],
   "source": [
    "print(dataframe['NR_IDADE_DATA_POSSE'].max())"
   ]
  },
  {
   "cell_type": "code",
   "execution_count": 61,
   "id": "54cc884c",
   "metadata": {},
   "outputs": [
    {
     "data": {
      "text/html": [
       "<div>\n",
       "<style scoped>\n",
       "    .dataframe tbody tr th:only-of-type {\n",
       "        vertical-align: middle;\n",
       "    }\n",
       "\n",
       "    .dataframe tbody tr th {\n",
       "        vertical-align: top;\n",
       "    }\n",
       "\n",
       "    .dataframe thead th {\n",
       "        text-align: right;\n",
       "    }\n",
       "</style>\n",
       "<table border=\"1\" class=\"dataframe\">\n",
       "  <thead>\n",
       "    <tr style=\"text-align: right;\">\n",
       "      <th></th>\n",
       "      <th>DT_GERACAO</th>\n",
       "      <th>HH_GERACAO</th>\n",
       "      <th>ANO_ELEICAO</th>\n",
       "      <th>CD_TIPO_ELEICAO</th>\n",
       "      <th>NM_TIPO_ELEICAO</th>\n",
       "      <th>NR_TURNO</th>\n",
       "      <th>CD_ELEICAO</th>\n",
       "      <th>DS_ELEICAO</th>\n",
       "      <th>DT_ELEICAO</th>\n",
       "      <th>TP_ABRANGENCIA</th>\n",
       "      <th>...</th>\n",
       "      <th>DS_SIT_TOT_TURNO</th>\n",
       "      <th>ST_REELEICAO</th>\n",
       "      <th>ST_DECLARAR_BENS</th>\n",
       "      <th>NR_PROTOCOLO_CANDIDATURA</th>\n",
       "      <th>NR_PROCESSO</th>\n",
       "      <th>CD_SITUACAO_CANDIDATO_PLEITO</th>\n",
       "      <th>DS_SITUACAO_CANDIDATO_PLEITO</th>\n",
       "      <th>CD_SITUACAO_CANDIDATO_URNA</th>\n",
       "      <th>DS_SITUACAO_CANDIDATO_URNA</th>\n",
       "      <th>ST_CANDIDATO_INSERIDO_URNA</th>\n",
       "    </tr>\n",
       "  </thead>\n",
       "  <tbody>\n",
       "    <tr>\n",
       "      <th>26240</th>\n",
       "      <td>08/08/2021</td>\n",
       "      <td>11:00:47</td>\n",
       "      <td>2018</td>\n",
       "      <td>2</td>\n",
       "      <td>ELEIÇÃO ORDINÁRIA</td>\n",
       "      <td>1</td>\n",
       "      <td>297</td>\n",
       "      <td>Eleições Gerais Estaduais 2018</td>\n",
       "      <td>07/10/2018</td>\n",
       "      <td>ESTADUAL</td>\n",
       "      <td>...</td>\n",
       "      <td>#NULO#</td>\n",
       "      <td>N</td>\n",
       "      <td>N</td>\n",
       "      <td>-1</td>\n",
       "      <td>6002947720186140000</td>\n",
       "      <td>-1</td>\n",
       "      <td>#NULO#</td>\n",
       "      <td>-1</td>\n",
       "      <td>#NULO#</td>\n",
       "      <td>NÃO</td>\n",
       "    </tr>\n",
       "  </tbody>\n",
       "</table>\n",
       "<p>1 rows × 63 columns</p>\n",
       "</div>"
      ],
      "text/plain": [
       "       DT_GERACAO HH_GERACAO  ANO_ELEICAO  CD_TIPO_ELEICAO    NM_TIPO_ELEICAO  \\\n",
       "26240  08/08/2021   11:00:47         2018                2  ELEIÇÃO ORDINÁRIA   \n",
       "\n",
       "       NR_TURNO  CD_ELEICAO                      DS_ELEICAO  DT_ELEICAO  \\\n",
       "26240         1         297  Eleições Gerais Estaduais 2018  07/10/2018   \n",
       "\n",
       "      TP_ABRANGENCIA  ... DS_SIT_TOT_TURNO ST_REELEICAO ST_DECLARAR_BENS  \\\n",
       "26240       ESTADUAL  ...           #NULO#            N                N   \n",
       "\n",
       "       NR_PROTOCOLO_CANDIDATURA          NR_PROCESSO  \\\n",
       "26240                        -1  6002947720186140000   \n",
       "\n",
       "       CD_SITUACAO_CANDIDATO_PLEITO  DS_SITUACAO_CANDIDATO_PLEITO  \\\n",
       "26240                            -1                        #NULO#   \n",
       "\n",
       "      CD_SITUACAO_CANDIDATO_URNA DS_SITUACAO_CANDIDATO_URNA  \\\n",
       "26240                         -1                     #NULO#   \n",
       "\n",
       "      ST_CANDIDATO_INSERIDO_URNA  \n",
       "26240                        NÃO  \n",
       "\n",
       "[1 rows x 63 columns]"
      ]
     },
     "execution_count": 61,
     "metadata": {},
     "output_type": "execute_result"
    }
   ],
   "source": [
    "dataframe[dataframe.NR_IDADE_DATA_POSSE == 825]"
   ]
  },
  {
   "cell_type": "code",
   "execution_count": 62,
   "id": "c40e35ec",
   "metadata": {},
   "outputs": [
    {
     "name": "stderr",
     "output_type": "stream",
     "text": [
      "C:\\Users\\foliveira\\Anaconda3\\lib\\site-packages\\seaborn\\distributions.py:2557: FutureWarning: `distplot` is a deprecated function and will be removed in a future version. Please adapt your code to use either `displot` (a figure-level function with similar flexibility) or `histplot` (an axes-level function for histograms).\n",
      "  warnings.warn(msg, FutureWarning)\n"
     ]
    },
    {
     "data": {
      "text/plain": [
       "<AxesSubplot:xlabel='NR_IDADE_DATA_POSSE', ylabel='Density'>"
      ]
     },
     "execution_count": 62,
     "metadata": {},
     "output_type": "execute_result"
    },
    {
     "data": {
      "image/png": "[encoded data removed]",
      "text/plain": [
       "<Figure size 432x288 with 1 Axes>"
      ]
     },
     "metadata": {
      "needs_background": "light"
     },
     "output_type": "display_data"
    }
   ],
   "source": [
    "sns.distplot(dataframe['NR_IDADE_DATA_POSSE'], color='r')"
   ]
  },
  {
   "cell_type": "code",
   "execution_count": 63,
   "id": "50bbffcd",
   "metadata": {},
   "outputs": [],
   "source": [
    "dataframe = dataframe.drop(dataframe.index[26240])"
   ]
  },
  {
   "cell_type": "code",
   "execution_count": 64,
   "id": "91fe1f0e",
   "metadata": {},
   "outputs": [
    {
     "name": "stderr",
     "output_type": "stream",
     "text": [
      "C:\\Users\\foliveira\\Anaconda3\\lib\\site-packages\\seaborn\\distributions.py:2557: FutureWarning: `distplot` is a deprecated function and will be removed in a future version. Please adapt your code to use either `displot` (a figure-level function with similar flexibility) or `histplot` (an axes-level function for histograms).\n",
      "  warnings.warn(msg, FutureWarning)\n"
     ]
    },
    {
     "data": {
      "text/plain": [
       "<AxesSubplot:xlabel='NR_IDADE_DATA_POSSE', ylabel='Density'>"
      ]
     },
     "execution_count": 64,
     "metadata": {},
     "output_type": "execute_result"
    },
    {
     "data": {
      "image/png": "[encoded data removed]",
      "text/plain": [
       "<Figure size 432x288 with 1 Axes>"
      ]
     },
     "metadata": {
      "needs_background": "light"
     },
     "output_type": "display_data"
    }
   ],
   "source": [
    "sns.distplot(dataframe['NR_IDADE_DATA_POSSE'], color='r')"
   ]
  },
  {
   "cell_type": "code",
   "execution_count": 65,
   "id": "38a51cf6",
   "metadata": {},
   "outputs": [
    {
     "data": {
      "text/html": [
       "<div>\n",
       "<style scoped>\n",
       "    .dataframe tbody tr th:only-of-type {\n",
       "        vertical-align: middle;\n",
       "    }\n",
       "\n",
       "    .dataframe tbody tr th {\n",
       "        vertical-align: top;\n",
       "    }\n",
       "\n",
       "    .dataframe thead tr th {\n",
       "        text-align: left;\n",
       "    }\n",
       "\n",
       "    .dataframe thead tr:last-of-type th {\n",
       "        text-align: right;\n",
       "    }\n",
       "</style>\n",
       "<table border=\"1\" class=\"dataframe\">\n",
       "  <thead>\n",
       "    <tr>\n",
       "      <th></th>\n",
       "      <th></th>\n",
       "      <th colspan=\"4\" halign=\"left\">NR_IDADE_DATA_POSSE</th>\n",
       "    </tr>\n",
       "    <tr>\n",
       "      <th></th>\n",
       "      <th></th>\n",
       "      <th>mean</th>\n",
       "      <th>min</th>\n",
       "      <th>max</th>\n",
       "      <th>count</th>\n",
       "    </tr>\n",
       "    <tr>\n",
       "      <th>SG_UE</th>\n",
       "      <th>SG_UF_NASCIMENTO</th>\n",
       "      <th></th>\n",
       "      <th></th>\n",
       "      <th></th>\n",
       "      <th></th>\n",
       "    </tr>\n",
       "  </thead>\n",
       "  <tbody>\n",
       "    <tr>\n",
       "      <th rowspan=\"5\" valign=\"top\">TO</th>\n",
       "      <th>ZZ</th>\n",
       "      <td>64.000000</td>\n",
       "      <td>58.0</td>\n",
       "      <td>70.0</td>\n",
       "      <td>2</td>\n",
       "    </tr>\n",
       "    <tr>\n",
       "      <th>PB</th>\n",
       "      <td>44.000000</td>\n",
       "      <td>44.0</td>\n",
       "      <td>44.0</td>\n",
       "      <td>1</td>\n",
       "    </tr>\n",
       "    <tr>\n",
       "      <th>AP</th>\n",
       "      <td>31.000000</td>\n",
       "      <td>31.0</td>\n",
       "      <td>31.0</td>\n",
       "      <td>1</td>\n",
       "    </tr>\n",
       "    <tr>\n",
       "      <th>BA</th>\n",
       "      <td>49.250000</td>\n",
       "      <td>29.0</td>\n",
       "      <td>60.0</td>\n",
       "      <td>4</td>\n",
       "    </tr>\n",
       "    <tr>\n",
       "      <th>CE</th>\n",
       "      <td>55.750000</td>\n",
       "      <td>37.0</td>\n",
       "      <td>90.0</td>\n",
       "      <td>12</td>\n",
       "    </tr>\n",
       "    <tr>\n",
       "      <th>...</th>\n",
       "      <th>...</th>\n",
       "      <td>...</td>\n",
       "      <td>...</td>\n",
       "      <td>...</td>\n",
       "      <td>...</td>\n",
       "    </tr>\n",
       "    <tr>\n",
       "      <th rowspan=\"5\" valign=\"top\">AC</th>\n",
       "      <th>RO</th>\n",
       "      <td>41.200000</td>\n",
       "      <td>25.0</td>\n",
       "      <td>54.0</td>\n",
       "      <td>5</td>\n",
       "    </tr>\n",
       "    <tr>\n",
       "      <th>RS</th>\n",
       "      <td>52.333333</td>\n",
       "      <td>43.0</td>\n",
       "      <td>58.0</td>\n",
       "      <td>3</td>\n",
       "    </tr>\n",
       "    <tr>\n",
       "      <th>SC</th>\n",
       "      <td>52.500000</td>\n",
       "      <td>47.0</td>\n",
       "      <td>58.0</td>\n",
       "      <td>2</td>\n",
       "    </tr>\n",
       "    <tr>\n",
       "      <th>SP</th>\n",
       "      <td>46.333333</td>\n",
       "      <td>24.0</td>\n",
       "      <td>65.0</td>\n",
       "      <td>15</td>\n",
       "    </tr>\n",
       "    <tr>\n",
       "      <th>AC</th>\n",
       "      <td>43.826772</td>\n",
       "      <td>19.0</td>\n",
       "      <td>75.0</td>\n",
       "      <td>508</td>\n",
       "    </tr>\n",
       "  </tbody>\n",
       "</table>\n",
       "<p>581 rows × 4 columns</p>\n",
       "</div>"
      ],
      "text/plain": [
       "                       NR_IDADE_DATA_POSSE                  \n",
       "                                      mean   min   max count\n",
       "SG_UE SG_UF_NASCIMENTO                                      \n",
       "TO    ZZ                         64.000000  58.0  70.0     2\n",
       "      PB                         44.000000  44.0  44.0     1\n",
       "      AP                         31.000000  31.0  31.0     1\n",
       "      BA                         49.250000  29.0  60.0     4\n",
       "      CE                         55.750000  37.0  90.0    12\n",
       "...                                    ...   ...   ...   ...\n",
       "AC    RO                         41.200000  25.0  54.0     5\n",
       "      RS                         52.333333  43.0  58.0     3\n",
       "      SC                         52.500000  47.0  58.0     2\n",
       "      SP                         46.333333  24.0  65.0    15\n",
       "      AC                         43.826772  19.0  75.0   508\n",
       "\n",
       "[581 rows x 4 columns]"
      ]
     },
     "execution_count": 65,
     "metadata": {},
     "output_type": "execute_result"
    }
   ],
   "source": [
    "dataframe.groupby(['SG_UE','SG_UF_NASCIMENTO']).agg({'NR_IDADE_DATA_POSSE':['mean', 'min', 'max', 'count']}).sort_values('SG_UE', ascending=False)"
   ]
  },
  {
   "cell_type": "markdown",
   "id": "7eb4a283",
   "metadata": {},
   "source": [
    "# DESPESAS MAX CAMPANHA"
   ]
  },
  {
   "cell_type": "code",
   "execution_count": 66,
   "id": "4d0975bc",
   "metadata": {},
   "outputs": [
    {
     "data": {
      "text/plain": [
       "0        9100000\n",
       "1        4200000\n",
       "2        1000000\n",
       "3        1000000\n",
       "4        2500000\n",
       "          ...   \n",
       "29175    1000000\n",
       "29176    1000000\n",
       "29177    1000000\n",
       "29178    1000000\n",
       "29179    1000000\n",
       "Name: VR_DESPESA_MAX_CAMPANHA, Length: 29179, dtype: int64"
      ]
     },
     "execution_count": 66,
     "metadata": {},
     "output_type": "execute_result"
    }
   ],
   "source": [
    "dataframe['VR_DESPESA_MAX_CAMPANHA']"
   ]
  },
  {
   "cell_type": "code",
   "execution_count": 67,
   "id": "f2e3d848",
   "metadata": {},
   "outputs": [
    {
     "name": "stderr",
     "output_type": "stream",
     "text": [
      "C:\\Users\\foliveira\\Anaconda3\\lib\\site-packages\\seaborn\\distributions.py:2557: FutureWarning: `distplot` is a deprecated function and will be removed in a future version. Please adapt your code to use either `displot` (a figure-level function with similar flexibility) or `histplot` (an axes-level function for histograms).\n",
      "  warnings.warn(msg, FutureWarning)\n"
     ]
    },
    {
     "data": {
      "text/plain": [
       "<AxesSubplot:xlabel='VR_DESPESA_MAX_CAMPANHA', ylabel='Density'>"
      ]
     },
     "execution_count": 67,
     "metadata": {},
     "output_type": "execute_result"
    },
    {
     "data": {
      "image/png": "[encoded data removed]",
      "text/plain": [
       "<Figure size 432x288 with 1 Axes>"
      ]
     },
     "metadata": {
      "needs_background": "light"
     },
     "output_type": "display_data"
    }
   ],
   "source": [
    "sns.distplot(dataframe['VR_DESPESA_MAX_CAMPANHA'], color='r')"
   ]
  },
  {
   "cell_type": "code",
   "execution_count": 68,
   "id": "f53d56db",
   "metadata": {},
   "outputs": [
    {
     "name": "stdout",
     "output_type": "stream",
     "text": [
      "70000000\n"
     ]
    }
   ],
   "source": [
    "print(dataframe['VR_DESPESA_MAX_CAMPANHA'].max())"
   ]
  },
  {
   "cell_type": "code",
   "execution_count": 118,
   "id": "0983065c",
   "metadata": {},
   "outputs": [],
   "source": [
    "dt2=dataframe.groupby('NR_IDADE_DATA_POSSE').agg({'VR_DESPESA_MAX_CAMPANHA':['count','max','sum']})"
   ]
  },
  {
   "cell_type": "code",
   "execution_count": 119,
   "id": "e21a666a",
   "metadata": {},
   "outputs": [],
   "source": [
    "dt2.columns=['_'.join(col) for col in dt2.columns.ravel()]"
   ]
  },
  {
   "cell_type": "code",
   "execution_count": 120,
   "id": "8ab0f64a",
   "metadata": {},
   "outputs": [],
   "source": [
    "dt2=dt2.rename(columns= {'VR_DESPESA_MAX_CAMPANHA_count':'count',\n",
    "          'VR_DESPESA_MAX_CAMPANHA_max':'max',\n",
    "          'VR_DESPESA_MAX_CAMPANHA_sum':'sum'})"
   ]
  },
  {
   "cell_type": "code",
   "execution_count": 121,
   "id": "f71dc919",
   "metadata": {},
   "outputs": [],
   "source": [
    "dt2=dt2.sort_values('count', ascending=False)"
   ]
  },
  {
   "cell_type": "code",
   "execution_count": 122,
   "id": "26d11ca3",
   "metadata": {},
   "outputs": [
    {
     "data": {
      "text/html": [
       "<div>\n",
       "<style scoped>\n",
       "    .dataframe tbody tr th:only-of-type {\n",
       "        vertical-align: middle;\n",
       "    }\n",
       "\n",
       "    .dataframe tbody tr th {\n",
       "        vertical-align: top;\n",
       "    }\n",
       "\n",
       "    .dataframe thead th {\n",
       "        text-align: right;\n",
       "    }\n",
       "</style>\n",
       "<table border=\"1\" class=\"dataframe\">\n",
       "  <thead>\n",
       "    <tr style=\"text-align: right;\">\n",
       "      <th></th>\n",
       "      <th>count</th>\n",
       "      <th>max</th>\n",
       "      <th>sum</th>\n",
       "    </tr>\n",
       "    <tr>\n",
       "      <th>NR_IDADE_DATA_POSSE</th>\n",
       "      <th></th>\n",
       "      <th></th>\n",
       "      <th></th>\n",
       "    </tr>\n",
       "  </thead>\n",
       "  <tbody>\n",
       "    <tr>\n",
       "      <th>52.0</th>\n",
       "      <td>974</td>\n",
       "      <td>14000000</td>\n",
       "      <td>1573549993</td>\n",
       "    </tr>\n",
       "    <tr>\n",
       "      <th>49.0</th>\n",
       "      <td>974</td>\n",
       "      <td>21000000</td>\n",
       "      <td>1507999992</td>\n",
       "    </tr>\n",
       "    <tr>\n",
       "      <th>46.0</th>\n",
       "      <td>971</td>\n",
       "      <td>9100000</td>\n",
       "      <td>1505099991</td>\n",
       "    </tr>\n",
       "    <tr>\n",
       "      <th>48.0</th>\n",
       "      <td>965</td>\n",
       "      <td>14000000</td>\n",
       "      <td>1520499994</td>\n",
       "    </tr>\n",
       "    <tr>\n",
       "      <th>50.0</th>\n",
       "      <td>925</td>\n",
       "      <td>21000000</td>\n",
       "      <td>1459849990</td>\n",
       "    </tr>\n",
       "  </tbody>\n",
       "</table>\n",
       "</div>"
      ],
      "text/plain": [
       "                     count       max         sum\n",
       "NR_IDADE_DATA_POSSE                             \n",
       "52.0                   974  14000000  1573549993\n",
       "49.0                   974  21000000  1507999992\n",
       "46.0                   971   9100000  1505099991\n",
       "48.0                   965  14000000  1520499994\n",
       "50.0                   925  21000000  1459849990"
      ]
     },
     "execution_count": 122,
     "metadata": {},
     "output_type": "execute_result"
    }
   ],
   "source": [
    "dt2.head(5)"
   ]
  },
  {
   "cell_type": "code",
   "execution_count": 100,
   "id": "e7287065",
   "metadata": {},
   "outputs": [],
   "source": [
    "dt3=dataframe.groupby('SG_UE').agg({'VR_DESPESA_MAX_CAMPANHA':['count','max','sum']})"
   ]
  },
  {
   "cell_type": "code",
   "execution_count": 101,
   "id": "5ee34d56",
   "metadata": {},
   "outputs": [],
   "source": [
    "dt3.columns=['_'.join(col) for col in dt2.columns.ravel()]"
   ]
  },
  {
   "cell_type": "code",
   "execution_count": 111,
   "id": "bd0c8c7e",
   "metadata": {},
   "outputs": [
    {
     "data": {
      "text/plain": [
       "Index(['V_R___D_E_S_P_E_S_A___M_A_X___C_A_M_P_A_N_H_A___c_o_u_n_t',\n",
       "       'V_R___D_E_S_P_E_S_A___M_A_X___C_A_M_P_A_N_H_A___m_a_x',\n",
       "       'V_R___D_E_S_P_E_S_A___M_A_X___C_A_M_P_A_N_H_A___s_u_m'],\n",
       "      dtype='object')"
      ]
     },
     "execution_count": 111,
     "metadata": {},
     "output_type": "execute_result"
    }
   ],
   "source": [
    "dt3.columns"
   ]
  },
  {
   "cell_type": "code",
   "execution_count": 115,
   "id": "8fa2ff3e",
   "metadata": {},
   "outputs": [],
   "source": [
    "dt3=dt3.rename(columns= {'V_R___D_E_S_P_E_S_A___M_A_X___C_A_M_P_A_N_H_A___c_o_u_n_t':'count',\n",
    "          'V_R___D_E_S_P_E_S_A___M_A_X___C_A_M_P_A_N_H_A___m_a_x':'max',\n",
    "          'V_R___D_E_S_P_E_S_A___M_A_X___C_A_M_P_A_N_H_A___s_u_m':'sum'})"
   ]
  },
  {
   "cell_type": "code",
   "execution_count": 116,
   "id": "787d5137",
   "metadata": {},
   "outputs": [],
   "source": [
    "dt3=dt3.sort_values('count', ascending=False)"
   ]
  },
  {
   "cell_type": "code",
   "execution_count": 117,
   "id": "f951014b",
   "metadata": {},
   "outputs": [
    {
     "data": {
      "text/html": [
       "<div>\n",
       "<style scoped>\n",
       "    .dataframe tbody tr th:only-of-type {\n",
       "        vertical-align: middle;\n",
       "    }\n",
       "\n",
       "    .dataframe tbody tr th {\n",
       "        vertical-align: top;\n",
       "    }\n",
       "\n",
       "    .dataframe thead th {\n",
       "        text-align: right;\n",
       "    }\n",
       "</style>\n",
       "<table border=\"1\" class=\"dataframe\">\n",
       "  <thead>\n",
       "    <tr style=\"text-align: right;\">\n",
       "      <th></th>\n",
       "      <th>count</th>\n",
       "      <th>max</th>\n",
       "      <th>sum</th>\n",
       "    </tr>\n",
       "    <tr>\n",
       "      <th>SG_UE</th>\n",
       "      <th></th>\n",
       "      <th></th>\n",
       "      <th></th>\n",
       "    </tr>\n",
       "  </thead>\n",
       "  <tbody>\n",
       "    <tr>\n",
       "      <th>SP</th>\n",
       "      <td>3952</td>\n",
       "      <td>21000000</td>\n",
       "      <td>7030199985</td>\n",
       "    </tr>\n",
       "    <tr>\n",
       "      <th>RJ</th>\n",
       "      <td>3699</td>\n",
       "      <td>14000000</td>\n",
       "      <td>5750399986</td>\n",
       "    </tr>\n",
       "    <tr>\n",
       "      <th>MG</th>\n",
       "      <td>2378</td>\n",
       "      <td>14000000</td>\n",
       "      <td>4032699988</td>\n",
       "    </tr>\n",
       "    <tr>\n",
       "      <th>RS</th>\n",
       "      <td>1344</td>\n",
       "      <td>9100000</td>\n",
       "      <td>2161399990</td>\n",
       "    </tr>\n",
       "    <tr>\n",
       "      <th>PR</th>\n",
       "      <td>1288</td>\n",
       "      <td>9100000</td>\n",
       "      <td>2161499990</td>\n",
       "    </tr>\n",
       "  </tbody>\n",
       "</table>\n",
       "</div>"
      ],
      "text/plain": [
       "       count       max         sum\n",
       "SG_UE                             \n",
       "SP      3952  21000000  7030199985\n",
       "RJ      3699  14000000  5750399986\n",
       "MG      2378  14000000  4032699988\n",
       "RS      1344   9100000  2161399990\n",
       "PR      1288   9100000  2161499990"
      ]
     },
     "execution_count": 117,
     "metadata": {},
     "output_type": "execute_result"
    }
   ],
   "source": [
    "dt3.head(5)"
   ]
  }
 ],
 "metadata": {
  "kernelspec": {
   "display_name": "Python 3",
   "language": "python",
   "name": "python3"
  },
  "language_info": {
   "codemirror_mode": {
    "name": "ipython",
    "version": 3
   },
   "file_extension": ".py",
   "mimetype": "text/x-python",
   "name": "python",
   "nbconvert_exporter": "python",
   "pygments_lexer": "ipython3",
   "version": "3.8.8"
  }
 },
 "nbformat": 4,
 "nbformat_minor": 5
}
